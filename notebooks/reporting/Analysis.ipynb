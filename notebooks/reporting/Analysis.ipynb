{
 "cells": [
  {
   "cell_type": "code",
   "execution_count": 1,
   "metadata": {
    "ExecuteTime": {
     "end_time": "2017-04-05T10:38:19.580699Z",
     "start_time": "2017-04-05T10:38:14.533705"
    },
    "collapsed": false
   },
   "outputs": [],
   "source": [
    "import pandas as pd\n",
    "import numpy as np\n",
    "import matplotlib.pyplot as plt\n",
    "from datetime import datetime\n",
    "from pandas.tools.plotting import autocorrelation_plot\n",
    "from statsmodels.tsa.arima_model import ARIMA\n",
    "from sklearn.metrics import mean_squared_error\n",
    "\n",
    "# For warnings\n",
    "import warnings\n",
    "warnings.filterwarnings('ignore')\n",
    "\n",
    "# Import the monitoring scripts\n",
    "import sys\n",
    "sys.path.insert(0, '../../src/models')\n",
    "\n",
    "from reports_monitoring import *\n",
    "\n",
    "%matplotlib inline"
   ]
  },
  {
   "cell_type": "code",
   "execution_count": 2,
   "metadata": {
    "ExecuteTime": {
     "end_time": "2017-04-05T10:39:14.519187Z",
     "start_time": "2017-04-05T10:38:19.583197"
    },
    "collapsed": true
   },
   "outputs": [],
   "source": [
    "store = pd.HDFStore('../../data/processed/orbf_benin.h5')\n",
    "data_orbf = store['data']\n",
    "store.close()\n",
    "\n",
    "report_payment_data = data_orbf.groupby(['entity_id' , 'date']).apply(aggregate_data_payment)\n",
    "report_payment_data['difference_amount'] = report_payment_data.claimed_payment - report_payment_data.verified_payment\n",
    "report_payment_data['ratio'] = report_payment_data.claimed_payment  / report_payment_data.verified_payment "
   ]
  },
  {
   "cell_type": "markdown",
   "metadata": {},
   "source": [
    "## Some terminology\n",
    "\n",
    "To differentiate the different types of data that are being handled in the analysis, we will use the following taxonomy :\n",
    "\n",
    "1. __Claimed data__ is the data sent by the facilities, before any level of verification happens.\n",
    "2. __Verified data__ is the data verified by OpenRBF teams during supervisions\n",
    "3. __Validated data__ is the data on which the payment is finally based. This can be the original claimed data, if no verification was made, or it could be the verified data, if a verification was made.\n",
    "\n",
    "## What are we monitoring ?\n",
    "\n",
    "### Data quality\n",
    "\n",
    "Data quality is an essential element of RBF. Building the trust that the data communicated by facilities reflects the demonstrable results of these facilities is essential to involving funders and other stakeholders in an RBF project.\n",
    "\n",
    "There are two detrimental situations of bad data quality :\n",
    "* __Over reporting__ when the claimed reports are excessively important and do in no way reflect the activity in the facility\n",
    "* __Under reporting__ when claimed payments are way below the actual costs of the facility. In this situation, facilities will come to detrimental situations where they will be underfunded, which could affect their ability to provide proper services in the following months.\n",
    "\n",
    "\n",
    "### Service conformity\n",
    "\n",
    "Data on services also provides a picture of the activities that are carried out in a facility. As such, they allow to check if a facility is really providing the services it should be providing.\n",
    "\n",
    "\n",
    "## Definition of _out of control_ situations\n",
    "\n",
    "We want to track situations where the data reported by the facilities are considered _out of control_, i.e situations where facilities report data that are not consistent with past reported data, or with situations in other facilities.\n",
    "\n",
    "To Identify these situations, we have to \n",
    "1. Define _in control_ situation based on available data\n",
    "2. Define a variation threshold above which we consider the situation to be _out of control_\n",
    "3. Test the incoming data based on these\n",
    "\n",
    "In the OpenRBF situation, an definitions for the threshold can be based on different aspects :\n",
    "1. % of variation of indicators from their expected value\n",
    "2. % of variation of payment from their expected value\n",
    "3. difference between expected and actual payment, and comparison to the cost of supervision\n",
    "\n",
    "Based on the available data, I will for now define two thresholds :\n",
    "1. The difference between the expected payment for the facility and the claimed payment should not exceed the supervision cost\n",
    "2. The claimed payment should not be less than half the expected payment\n",
    "\n",
    "The mean monthly supervision cost based on data from Bluesquare appears to be 170 000 CFA Francs. "
   ]
  },
  {
   "cell_type": "code",
   "execution_count": 3,
   "metadata": {
    "ExecuteTime": {
     "end_time": "2017-04-05T10:39:14.529193Z",
     "start_time": "2017-04-05T10:39:14.523190"
    },
    "collapsed": true
   },
   "outputs": [],
   "source": [
    "mean_supervision_cost = 170000\n",
    "underfunding_max_risk = 0.5"
   ]
  },
  {
   "cell_type": "code",
   "execution_count": 4,
   "metadata": {
    "ExecuteTime": {
     "end_time": "2017-04-05T10:39:14.542703Z",
     "start_time": "2017-04-05T10:39:14.533699"
    },
    "collapsed": false
   },
   "outputs": [],
   "source": [
    "report_payment_data['over_declaration'] = report_payment_data['difference_amount'] > mean_supervision_cost\n",
    "report_payment_data['under_declaration'] = report_payment_data['ratio'] < underfunding_max_risk"
   ]
  },
  {
   "cell_type": "markdown",
   "metadata": {},
   "source": [
    "## Data Quality Description"
   ]
  },
  {
   "cell_type": "code",
   "execution_count": 5,
   "metadata": {
    "ExecuteTime": {
     "end_time": "2017-04-05T10:39:14.820395Z",
     "start_time": "2017-04-05T10:39:14.550208"
    },
    "collapsed": false
   },
   "outputs": [
    {
     "name": "stdout",
     "output_type": "stream",
     "text": [
      "Over declaration :0.0842477217779\n",
      "Under declaration :0.00495939495382\n",
      "Overdeclaring Facilities :0.45901639344262296\n",
      "Undedeclaring Facilities :0.06557377049180328\n"
     ]
    }
   ],
   "source": [
    "out_sup = sum(report_payment_data.over_declaration) / len(report_payment_data)\n",
    "out_inf = sum(report_payment_data.under_declaration)  / len(report_payment_data)\n",
    "\n",
    "print('Over declaration :' + str(out_sup))\n",
    "print('Under declaration :' + str(out_inf))\n",
    "\n",
    "n_facilities = len(report_payment_data.index.levels[0])\n",
    "\n",
    "n_over_fac = report_payment_data[report_payment_data.over_declaration].reset_index().entity_id.nunique() / n_facilities\n",
    "n_under_fac = report_payment_data[report_payment_data.under_declaration].reset_index().entity_id.nunique() / n_facilities\n",
    "print('Overdeclaring Facilities :' + str(n_over_fac))\n",
    "print('Undedeclaring Facilities :' + str(n_under_fac))"
   ]
  },
  {
   "cell_type": "markdown",
   "metadata": {},
   "source": [
    "Based on the validated data, we see that 9.6% of the reports were claiming excessive amounts that were over the cost of verification, while 0.5% of the reports were claiming amounts that would have resulted in an undefunding of the facilities activities. \n",
    "\n",
    "47% of the facilities reported did an _ooc_ overestimation at least once, and 6.7% did an _ooc_ underestimation at least once in the data."
   ]
  },
  {
   "cell_type": "code",
   "execution_count": 6,
   "metadata": {
    "ExecuteTime": {
     "end_time": "2017-04-05T10:39:16.016723Z",
     "start_time": "2017-04-05T10:39:14.827900"
    },
    "collapsed": false
   },
   "outputs": [
    {
     "data": {
      "text/plain": [
       "[<matplotlib.lines.Line2D at 0x90ef3fc2b0>]"
      ]
     },
     "execution_count": 6,
     "metadata": {},
     "output_type": "execute_result"
    },
    {
     "data": {
      "image/png": "[encoded data removed]",
      "text/plain": [
       "<matplotlib.figure.Figure at 0x90fe8d1048>"
      ]
     },
     "metadata": {},
     "output_type": "display_data"
    }
   ],
   "source": [
    "plotting_data = report_payment_data[(report_payment_data['claimed_payment'] < 10000000)]\n",
    "\n",
    "outliers = plotting_data[plotting_data['over_declaration'] | plotting_data['under_declaration']]\n",
    "in_control = plotting_data[~ (plotting_data['over_declaration']) & ~(plotting_data['under_declaration'])]\n",
    "\n",
    "plt.figure(1)\n",
    "plt.subplot(1,2,1)\n",
    "plt.plot( outliers.claimed_payment , outliers.verified_payment , 'ro', alpha = 0.1)\n",
    "plt.plot( in_control.claimed_payment , in_control.verified_payment , 'o' , alpha = 0.1)\n",
    "plt.plot((0,3750000) , (0,7500000) , 'r-' , alpha = 0.8)\n",
    "plt.plot((mean_supervision_cost,7000000) , (0,(7000000 - mean_supervision_cost)) , 'k-' , alpha = 0.8)\n",
    "plotting_data = plotting_data[np.abs(plotting_data['difference_amount']) < 500000]\n",
    "plt.subplot(1,2,2)\n",
    "plt.hist(plotting_data[:]['difference_amount'] , bins = 20 )\n",
    "plt.plot((mean_supervision_cost, mean_supervision_cost), (0, 8500), 'r-')"
   ]
  },
  {
   "cell_type": "markdown",
   "metadata": {},
   "source": [
    "Graph XX shows the distribution of the data we want to spot. Red data dots are outside of the zone in which we want the data to be. Reports under the black line were overreporting, and reports over the red line were underreporting too strongly before data validation."
   ]
  },
  {
   "cell_type": "markdown",
   "metadata": {},
   "source": [
    "## Supervision Costs"
   ]
  },
  {
   "cell_type": "code",
   "execution_count": 7,
   "metadata": {
    "ExecuteTime": {
     "end_time": "2017-04-05T10:39:16.070260Z",
     "start_time": "2017-04-05T10:39:16.021226"
    },
    "collapsed": false
   },
   "outputs": [
    {
     "data": {
      "text/plain": [
       "0.12591685239359085"
      ]
     },
     "execution_count": 7,
     "metadata": {},
     "output_type": "execute_result"
    }
   ],
   "source": [
    "data_orbf.entity_id.nunique() * mean_supervision_cost / ((sum(report_payment_data.verified_payment) / 12) + data_orbf.entity_id.nunique() * mean_supervision_cost)"
   ]
  },
  {
   "cell_type": "markdown",
   "metadata": {},
   "source": [
    "We see that in the current supervision regime, costs of supervision represent 12 % of the overall program. This is an important cost, especially considering that 92% of the supervisions are more costly than the corresponding reduction in payment.\n",
    "\n",
    "The process of data verification is thus costly and time consuming for public health authorities. The aim of this project is ot orient these efforts of supervision to maximize the chance of identifying data issues or services problems."
   ]
  },
  {
   "cell_type": "markdown",
   "metadata": {},
   "source": [
    "## Methods\n",
    "\n",
    "### A classification problem\n",
    "\n",
    "Based on this first presentation, we want to classify all incoming data in four categories :\n",
    "1. __In control__ : will be for all the data that seems to follow expected distributions and evolutions\n",
    "2. __Data Issue__ : will be for data with unexpected values, that can be linked to data quality issues. This includes :\n",
    "    1. __Overestimation__ : will screen and spot the data that seems to be overshooting the expected values by too wide a margin, as previously defined\n",
    "    2. __Underestimation__ : will screen and spot the data that seems to be underevaluating the expected payments by a too wide factor\n",
    "4. __Quality issue__ : finally, we will aim at identifying reports that seem to show issues in the quality of care in the facility\n",
    "\n",
    "### Building classification features\n",
    "\n",
    "To do this classification, we will build features, characterizing the place of the observed values in the expected distributions. We will test 3 approaches to build these features.\n",
    "\n",
    "The features will need to be built on different dimensions :\n",
    "1. Internal consistency of each serie : surveillance\n",
    "2. Facility consistency with other facilities : hierarchical\n",
    "3. Profile consistency for the facility / Profile consistency with other facilities"
   ]
  },
  {
   "cell_type": "markdown",
   "metadata": {},
   "source": [
    "## Surveillance approach\n",
    "\n",
    "In an Surveillance approach, we will want to monitor the amounts paid to a facility on a monthly basis, and spot a divergence from the expected _in control_ distribution. Methods for this are from a CUSUM family, and use control charts as output to present and interpret the results.\n",
    "\n",
    "Essentially, in this approach, we want to check if any of the individual observed series in the reports are showing unexpected patterns. To do this, for each facility I will :\n",
    "1. Model each report serie using an ARIMA based on historic data\n",
    "2. Get a prediction for the new data\n",
    "3. Compared the new data to the distribution of expected data "
   ]
  },
  {
   "cell_type": "markdown",
   "metadata": {},
   "source": [
    "## Hierarchical modelling\n",
    "\n",
    "A second approach is to model the values we should observe for different indicators, using "
   ]
  },
  {
   "cell_type": "markdown",
   "metadata": {},
   "source": [
    "## Profile monitoring\n",
    "\n",
    "Finally, we want to check intern consistency of reports. This consistency should be the defined both within facilties and among facilites."
   ]
  },
  {
   "cell_type": "markdown",
   "metadata": {},
   "source": [
    "## Classification"
   ]
  },
  {
   "cell_type": "markdown",
   "metadata": {},
   "source": [
    "## Verification strategies testing\n",
    "\n",
    "### Different strategies"
   ]
  },
  {
   "cell_type": "markdown",
   "metadata": {},
   "source": [
    "### Strategy 1 : Complete Supervision"
   ]
  },
  {
   "cell_type": "code",
   "execution_count": 8,
   "metadata": {
    "ExecuteTime": {
     "end_time": "2017-04-05T10:39:16.405491Z",
     "start_time": "2017-04-05T10:39:16.075764"
    },
    "collapsed": false
   },
   "outputs": [
    {
     "name": "stdout",
     "output_type": "stream",
     "text": [
      "{'perc_supervision': 0.18476387214191842, 'payments': 33004105.0, 'total_cost': 40484105.0}\n"
     ]
    }
   ],
   "source": [
    "fac_data = data_orbf[data_orbf.entity_id == 180]    \n",
    "    \n",
    "### Building the training set :\n",
    "perc_train = 0.2\n",
    "TS = create_facility_training_dict(fac_data , perc_train)\n",
    "\n",
    "test_data = fac_data[~(fac_data.date.isin(TS['train_months']))]\n",
    "n_periods = test_data.reset_index()['date'].nunique()\n",
    "strat_1_cost = summary_cost(sum(test_data.indicator_montant) , mean_supervision_cost*n_periods)\n",
    "print(strat_1_cost)"
   ]
  },
  {
   "cell_type": "markdown",
   "metadata": {},
   "source": [
    "### Strategy 2 : Supervision every Cost alerts only"
   ]
  },
  {
   "cell_type": "markdown",
   "metadata": {},
   "source": [
    "TEMP : Building this functions : what does what\n",
    "\n",
    "* __TS :__ Keeping track of the training set\n",
    "* __dict :__ to create, dictionnary with useful indicator info such as tarif, group, ...\n",
    "* __models :__having methods for running the model / raising alarm etc...\n",
    "* __out :__ one by model, will keep all the useful outputs by model\n",
    "* __additional methods :__ for aggregating / displaying the results"
   ]
  },
  {
   "cell_type": "code",
   "execution_count": 9,
   "metadata": {
    "ExecuteTime": {
     "end_time": "2017-04-05T10:39:19.413571Z",
     "start_time": "2017-04-05T10:39:16.409495"
    },
    "collapsed": false
   },
   "outputs": [],
   "source": [
    "tarifs = []\n",
    "\n",
    "for i in data_orbf.indicator_label.unique() :\n",
    "    tarifs.append(data_orbf.indicator_tarif[data_orbf.indicator_label == i].tolist()[0])\n",
    "    \n",
    "tarifs = pd.Series(tarifs , index = data_orbf.indicator_label.unique())"
   ]
  },
  {
   "cell_type": "code",
   "execution_count": 10,
   "metadata": {
    "ExecuteTime": {
     "end_time": "2017-04-05T10:39:19.474113Z",
     "start_time": "2017-04-05T10:39:19.416573"
    },
    "collapsed": false
   },
   "outputs": [],
   "source": [
    "def make_full_path(fac_data , perc_train , tarifs , mean_supervision_cost , underfunding_max_risk):\n",
    "    import sys\n",
    "    sys.path.insert(0, 'c://users/grlurton/documents/orbf_data_quality/src/models')\n",
    "    import reports_monitoring\n",
    "    facility_id = fac_data.entity_id.unique()[0]\n",
    "    TS = reports_monitoring.create_facility_training_dict(fac_data , perc_train)\n",
    "    test_data = fac_data[~(fac_data.date.isin(TS['train_months']))]\n",
    "    out = {}\n",
    "    out[facility_id] = {}\n",
    "    for month in test_data['date'].sort_values().unique():\n",
    "        ## Initiating the function parameters and output\n",
    "        dat_month = fac_data[fac_data.date == month].set_index('indicator_label')\n",
    "    \n",
    "        ## Screening the data\n",
    "        arima_screened = reports_monitoring.arima_report_payment(dat_month , TS)\n",
    "    \n",
    "        ## Checking Alarm\n",
    "        BLIP = reports_monitoring.overcost_alarm(dat_month.indicator_claimed_value , arima_screened['expected_values'] , tarifs ,\n",
    "                              mean_supervision_cost , underfunding_max_risk)\n",
    "\n",
    "        ## Updating the data\n",
    "        payment_made = reports_monitoring.make_training_set(TS , dat_month , BLIP)\n",
    "    \n",
    "        ## Make the output\n",
    "        month_char = str(month)[0:7]\n",
    "        out[facility_id][month_char] = reports_monitoring.make_output(dat_month , arima_screened['expected_values'] , \n",
    "                                                                      payment_made , BLIP)\n",
    "\n",
    "    collapsed_output = reports_monitoring.collapse_output(out , tarifs)\n",
    "    return collapsed_output"
   ]
  },
  {
   "cell_type": "code",
   "execution_count": 11,
   "metadata": {
    "ExecuteTime": {
     "end_time": "2017-04-05T10:39:19.608206Z",
     "start_time": "2017-04-05T10:39:19.478616"
    },
    "collapsed": false
   },
   "outputs": [],
   "source": [
    "import ipyparallel\n",
    "\n",
    "clients = ipyparallel.Client()\n",
    "clients.ids\n",
    "\n",
    "dview = clients[:]"
   ]
  },
  {
   "cell_type": "code",
   "execution_count": 12,
   "metadata": {
    "ExecuteTime": {
     "end_time": "2017-04-05T10:39:19.619715Z",
     "start_time": "2017-04-05T10:39:19.611709"
    },
    "collapsed": false
   },
   "outputs": [],
   "source": [
    "data_run = data_orbf.iloc[0:1000]\n",
    "\n",
    "def run(data , make_full_path = make_full_path , tarifs = tarifs ,\n",
    "                              mean_supervision_cost = mean_supervision_cost, underfunding_max_risk = mean_supervision_cost):\n",
    "    result = make_full_path(data , 0.2 , tarifs , mean_supervision_cost  , underfunding_max_risk)\n",
    "    return result"
   ]
  },
  {
   "cell_type": "code",
   "execution_count": 13,
   "metadata": {
    "ExecuteTime": {
     "end_time": "2017-04-05T10:39:25.492275Z",
     "start_time": "2017-04-05T10:39:19.644731"
    },
    "collapsed": false
   },
   "outputs": [
    {
     "name": "stdout",
     "output_type": "stream",
     "text": [
      "Wall time: 5.83 s\n"
     ]
    }
   ],
   "source": [
    "%%time\n",
    "fac = []\n",
    "for fac_id in data_orbf.entity_id.unique():\n",
    "    fac_data = data_orbf[data_orbf.entity_id == fac_id]\n",
    "    fac.append(fac_data)"
   ]
  },
  {
   "cell_type": "code",
   "execution_count": null,
   "metadata": {
    "ExecuteTime": {
     "start_time": "2017-04-05T17:39:35.771Z"
    },
    "collapsed": false
   },
   "outputs": [],
   "source": [
    "%%time\n",
    "\n",
    "result = dview.map_sync(run , fac)"
   ]
  },
  {
   "cell_type": "code",
   "execution_count": null,
   "metadata": {
    "ExecuteTime": {
     "end_time": "2017-04-04T16:54:12.938529Z",
     "start_time": "2017-04-04T16:54:12.934527"
    },
    "collapsed": false
   },
   "outputs": [],
   "source": [
    "out = result.get()"
   ]
  },
  {
   "cell_type": "code",
   "execution_count": null,
   "metadata": {
    "ExecuteTime": {
     "end_time": "2017-04-04T16:54:55.582285Z",
     "start_time": "2017-04-04T16:54:55.562271"
    },
    "collapsed": false
   },
   "outputs": [],
   "source": [
    "pd.DataFrame(out[0])"
   ]
  },
  {
   "cell_type": "code",
   "execution_count": null,
   "metadata": {
    "ExecuteTime": {
     "end_time": "2017-04-04T16:49:48.940500Z",
     "start_time": "2017-04-04T16:49:48.898457"
    },
    "collapsed": false
   },
   "outputs": [],
   "source": [
    "costs = []\n",
    "supervision = []\n",
    "total_cost=  []\n",
    "for fac in full_out.keys():\n",
    "    summary_pay = summary_cost(full_out[fac]['validated'] , mean_supervision_cost*sum(full_out[fac]['alarms']))\n",
    "    costs.append(sum(summary_pay['payments']))\n",
    "    supervision.append(sum(summary_pay['total_cost'] - summary_pay['payments']))\n",
    "    total_cost.append(sum(summary_pay['total_cost']))\n",
    "    \n",
    "out = pd.DataFrame({'costs':costs , 'supervision':supervision ,  'total_cost':total_cost})"
   ]
  },
  {
   "cell_type": "code",
   "execution_count": null,
   "metadata": {
    "ExecuteTime": {
     "end_time": "2017-04-04T12:19:14.275052Z",
     "start_time": "2017-04-04T12:19:14.270050"
    },
    "collapsed": false
   },
   "outputs": [],
   "source": [
    "out = out.sort_values('total_cost')"
   ]
  },
  {
   "cell_type": "code",
   "execution_count": null,
   "metadata": {
    "ExecuteTime": {
     "end_time": "2017-04-04T12:17:53.867493Z",
     "start_time": "2017-04-04T12:17:47.134249"
    },
    "collapsed": false
   },
   "outputs": [],
   "source": [
    "out[['costs' , 'supervision']].plot.bar(stacked = True)"
   ]
  },
  {
   "cell_type": "code",
   "execution_count": null,
   "metadata": {
    "ExecuteTime": {
     "end_time": "2017-04-04T12:07:20.091182Z",
     "start_time": "2017-04-04T12:07:20.075185"
    },
    "collapsed": false
   },
   "outputs": [],
   "source": [
    "out['perc_supervision'] = out.supervision / (out.supervision + out.costs)\n",
    "out.loc[(np.isinf(np.abs(out['perc_supervision']))) | np.isnan(out['perc_supervision']) ,   'perc_supervision'] = 0\n",
    "max(out.perc_supervision)\n",
    "sum(np.isinf(out.supervision))"
   ]
  },
  {
   "cell_type": "code",
   "execution_count": null,
   "metadata": {
    "ExecuteTime": {
     "end_time": "2017-04-04T14:35:35.094687Z",
     "start_time": "2017-04-04T14:35:35.086682"
    },
    "collapsed": false
   },
   "outputs": [],
   "source": [
    "dat_month.entity_id.unique()[0]"
   ]
  },
  {
   "cell_type": "code",
   "execution_count": null,
   "metadata": {
    "ExecuteTime": {
     "end_time": "2017-04-04T12:07:50.103648Z",
     "start_time": "2017-04-04T12:07:49.891487"
    },
    "collapsed": false
   },
   "outputs": [],
   "source": [
    "plt.hist(out.perc_supervision)"
   ]
  },
  {
   "cell_type": "code",
   "execution_count": null,
   "metadata": {
    "ExecuteTime": {
     "end_time": "2017-04-04T12:26:25.827235Z",
     "start_time": "2017-04-04T12:26:25.595065"
    },
    "collapsed": false
   },
   "outputs": [],
   "source": [
    "plot_monitoring(full_out[23])"
   ]
  },
  {
   "cell_type": "code",
   "execution_count": null,
   "metadata": {
    "ExecuteTime": {
     "end_time": "2017-04-04T12:22:35.105799Z",
     "start_time": "2017-04-04T12:22:35.097794"
    },
    "collapsed": false
   },
   "outputs": [],
   "source": [
    "len(full_out[670]['alarms'])"
   ]
  },
  {
   "cell_type": "code",
   "execution_count": null,
   "metadata": {
    "ExecuteTime": {
     "end_time": "2017-04-04T09:22:20.037078Z",
     "start_time": "2017-04-04T16:17:06.278Z"
    },
    "collapsed": false
   },
   "outputs": [],
   "source": [
    "strat_2_cost = summary_cost(sum(collapsed_output['validated']) , mean_supervision_cost*sum(collapsed_output['alarms']))\n",
    "print(strat_2_cost)\n",
    "print(sum(collapsed_output['alarms']) / len(collapsed_output['alarms']))\n",
    "perc_months_supervisions2 = sum(collapsed_output['alarms']) / len(collapsed_output['alarms'])\n",
    "\n",
    "per_overcost_prevented2 = perc_overvcost_prevented(collapsed_output)\n",
    "print(per_overcost_prevented2)\n",
    "\n",
    "\n",
    "def perc_undercost_prevented(outcome):\n",
    "    ovp = sum((pd.Series(outcome['claimed']) / pd.Series(outcome['validated']) < .5)) /  sum((pd.Series(outcome['claimed']) / pd.Series(outcome['verified']) < .5))\n",
    "    if np.isnan(ovp) :\n",
    "        ovp = 1\n",
    "    return ovp\n",
    "perc_undercost_prevented2 = perc_undercost_prevented(collapsed_output)\n",
    "print(perc_undercost_prevented(collapsed_output))\n",
    "\n",
    "\n",
    "def perc_false_alarms(outcome):\n",
    "    n_alarms = sum(pd.Series(collapsed_output['alarms']))\n",
    "    fa = pd.Series(collapsed_output['claimed'])[pd.Series(collapsed_output['alarms'])] - pd.Series(collapsed_output['validated'])[pd.Series(collapsed_output['alarms'])] <  mean_supervision_cost\n",
    "    far = sum(fa) / n_alarms\n",
    "    return far\n",
    "perc_false_alarms2 = perc_false_alarms(collapsed_output)\n",
    "print(perc_false_alarms(collapsed_output))"
   ]
  },
  {
   "cell_type": "markdown",
   "metadata": {},
   "source": [
    "### Strategy 3 : Supervision for multiple diverging performances"
   ]
  },
  {
   "cell_type": "code",
   "execution_count": null,
   "metadata": {
    "ExecuteTime": {
     "end_time": "2017-04-04T15:09:07.859240Z",
     "start_time": "2017-04-04T15:09:07.725146"
    },
    "collapsed": true
   },
   "outputs": [],
   "source": [
    "fac = 23 \n",
    "fac_data = data_orbf[(data_orbf.entity_id == fac)]\n",
    "perc_train = 0.2\n",
    "\n",
    "### Building the training set :\n",
    "TS = create_facility_training_dict(fac_data , perc_train)\n",
    "out = {}"
   ]
  },
  {
   "cell_type": "code",
   "execution_count": null,
   "metadata": {
    "ExecuteTime": {
     "end_time": "2017-04-04T15:09:07.897280Z",
     "start_time": "2017-04-04T15:09:07.888270"
    },
    "collapsed": false
   },
   "outputs": [],
   "source": [
    "out"
   ]
  },
  {
   "cell_type": "code",
   "execution_count": null,
   "metadata": {
    "ExecuteTime": {
     "end_time": "2017-04-04T15:09:31.717972Z",
     "start_time": "2017-04-04T15:09:09.267021"
    },
    "collapsed": false
   },
   "outputs": [],
   "source": [
    "for month in test_data['date'].sort_values().unique():\n",
    "    ## Initiating the function parameters and output\n",
    "    dat_month = fac_data[fac_data.date == month].set_index('indicator_label')\n",
    "    \n",
    "    ## Screening the data\n",
    "    arima_screened = arima_report_payment(dat_month , TS)\n",
    "    \n",
    "    z_score = np.abs(dat_month.indicator_claimed_value - arima_screened['expected_values']) / arima_screened['std_vals']\n",
    "    BLIP = np.nansum(z_score > 2) > 2\n",
    "    \n",
    "    ## Updating the data\n",
    "    payment_made = make_training_set(TS , dat_month , BLIP)\n",
    "    \n",
    "    ## Make the output\n",
    "    month_char = str(month)[0:7]\n",
    "    out[month_char] = make_output(dat_month , arima_screened['expected_values'] , payment_made , BLIP)\n",
    "\n",
    "    \n",
    "collapsed_output = collapse_output(out , tarifs)\n",
    "plot_monitoring(collapsed_output)"
   ]
  },
  {
   "cell_type": "code",
   "execution_count": null,
   "metadata": {
    "ExecuteTime": {
     "end_time": "2017-04-04T12:26:09.030231Z",
     "start_time": "2017-04-04T12:26:08.984211"
    },
    "collapsed": false
   },
   "outputs": [],
   "source": [
    "strat_3_cost = summary_cost(sum(collapsed_output['validated']) , mean_supervision_cost*sum(collapsed_output['alarms']))\n",
    "print(strat_3_cost)\n",
    "print(sum(collapsed_output['alarms']) / len(collapsed_output['alarms']))\n",
    "\n",
    "perc_months_supervisions3 = sum(collapsed_output['alarms']) / len(collapsed_output['alarms'])\n",
    "\n",
    "\n",
    "def perc_overvcost_prevented(outcome):\n",
    "    ovp = sum((pd.Series(outcome['claimed']) - pd.Series(outcome['validated']) > mean_supervision_cost)) /  sum((pd.Series(outcome['claimed']) - pd.Series(outcome['verified']) > mean_supervision_cost))\n",
    "    return ovp\n",
    "per_overcost_prevented3 = perc_overvcost_prevented(collapsed_output)\n",
    "print(perc_overvcost_prevented(collapsed_output))\n",
    "\n",
    "\n",
    "def perc_undercost_prevented(outcome):\n",
    "    ovp = sum((pd.Series(outcome['claimed']) / pd.Series(outcome['validated']) < .5)) /  sum((pd.Series(outcome['claimed']) / pd.Series(outcome['verified']) < .5))\n",
    "    if np.isnan(ovp) :\n",
    "        ovp = 1\n",
    "    return ovp\n",
    "perc_undercost_prevented3 = perc_undercost_prevented(collapsed_output)\n",
    "print(perc_undercost_prevented(collapsed_output))\n",
    "\n",
    "\n",
    "def perc_false_alarms(outcome):\n",
    "    n_alarms = sum(pd.Series(collapsed_output['alarms']))\n",
    "    fa = pd.Series(collapsed_output['claimed'])[pd.Series(collapsed_output['alarms'])] - pd.Series(collapsed_output['validated'])[pd.Series(collapsed_output['alarms'])] <  mean_supervision_cost\n",
    "    far = sum(fa) / n_alarms\n",
    "    return far\n",
    "perc_false_alarms3 = perc_false_alarms(collapsed_output)\n",
    "print(perc_false_alarms(collapsed_output))"
   ]
  },
  {
   "cell_type": "markdown",
   "metadata": {},
   "source": [
    "### Comparisons"
   ]
  },
  {
   "cell_type": "code",
   "execution_count": null,
   "metadata": {
    "ExecuteTime": {
     "end_time": "2017-04-04T09:22:20.039079Z",
     "start_time": "2017-04-04T16:17:06.294Z"
    },
    "collapsed": false
   },
   "outputs": [],
   "source": [
    "plt.plot(strat_1_cost['total_cost'] , strat_1_cost['perc_supervision'] , 'o')\n",
    "plt.plot(strat_2_cost['total_cost'] , strat_2_cost['perc_supervision'] , 'o')\n",
    "plt.plot(strat_3_cost['total_cost'] , strat_3_cost['perc_supervision'] , 'o')"
   ]
  },
  {
   "cell_type": "code",
   "execution_count": null,
   "metadata": {
    "ExecuteTime": {
     "end_time": "2017-04-04T09:22:20.039079Z",
     "start_time": "2017-04-04T16:17:06.298Z"
    },
    "collapsed": false
   },
   "outputs": [],
   "source": [
    "#from http://matplotlib.org/examples/api/radar_chart.html\n",
    "\n",
    "\"\"\"\n",
    "======================================\n",
    "Radar chart (aka spider or star chart)\n",
    "======================================\n",
    "\n",
    "This example creates a radar chart, also known as a spider or star chart [1]_.\n",
    "\n",
    "Although this example allows a frame of either 'circle' or 'polygon', polygon\n",
    "frames don't have proper gridlines (the lines are circles instead of polygons).\n",
    "It's possible to get a polygon grid by setting GRIDLINE_INTERPOLATION_STEPS in\n",
    "matplotlib.axis to the desired number of vertices, but the orientation of the\n",
    "polygon is not aligned with the radial axes.\n",
    "\n",
    ".. [1] http://en.wikipedia.org/wiki/Radar_chart\n",
    "\"\"\"\n",
    "import numpy as np\n",
    "\n",
    "import matplotlib.pyplot as plt\n",
    "from matplotlib.path import Path\n",
    "from matplotlib.spines import Spine\n",
    "from matplotlib.projections.polar import PolarAxes\n",
    "from matplotlib.projections import register_projection\n",
    "\n",
    "\n",
    "def radar_factory(num_vars, frame='circle'):\n",
    "    \"\"\"Create a radar chart with `num_vars` axes.\n",
    "\n",
    "    This function creates a RadarAxes projection and registers it.\n",
    "\n",
    "    Parameters\n",
    "    ----------\n",
    "    num_vars : int\n",
    "        Number of variables for radar chart.\n",
    "    frame : {'circle' | 'polygon'}\n",
    "        Shape of frame surrounding axes.\n",
    "\n",
    "    \"\"\"\n",
    "    # calculate evenly-spaced axis angles\n",
    "    theta = np.linspace(0, 2*np.pi, num_vars, endpoint=False)\n",
    "    # rotate theta such that the first axis is at the top\n",
    "    theta += np.pi/2\n",
    "\n",
    "    def draw_poly_patch(self):\n",
    "        verts = unit_poly_verts(theta)\n",
    "        return plt.Polygon(verts, closed=True, edgecolor='k')\n",
    "\n",
    "    def draw_circle_patch(self):\n",
    "        # unit circle centered on (0.5, 0.5)\n",
    "        return plt.Circle((0.5, 0.5), 0.5)\n",
    "\n",
    "    patch_dict = {'polygon': draw_poly_patch, 'circle': draw_circle_patch}\n",
    "    if frame not in patch_dict:\n",
    "        raise ValueError('unknown value for `frame`: %s' % frame)\n",
    "\n",
    "    class RadarAxes(PolarAxes):\n",
    "\n",
    "        name = 'radar'\n",
    "        # use 1 line segment to connect specified points\n",
    "        RESOLUTION = 1\n",
    "        # define draw_frame method\n",
    "        draw_patch = patch_dict[frame]\n",
    "\n",
    "        def fill(self, *args, **kwargs):\n",
    "            \"\"\"Override fill so that line is closed by default\"\"\"\n",
    "            closed = kwargs.pop('closed', True)\n",
    "            return super(RadarAxes, self).fill(closed=closed, *args, **kwargs)\n",
    "\n",
    "        def plot(self, *args, **kwargs):\n",
    "            \"\"\"Override plot so that line is closed by default\"\"\"\n",
    "            lines = super(RadarAxes, self).plot(*args, **kwargs)\n",
    "            for line in lines:\n",
    "                self._close_line(line)\n",
    "\n",
    "        def _close_line(self, line):\n",
    "            x, y = line.get_data()\n",
    "            # FIXME: markers at x[0], y[0] get doubled-up\n",
    "            if x[0] != x[-1]:\n",
    "                x = np.concatenate((x, [x[0]]))\n",
    "                y = np.concatenate((y, [y[0]]))\n",
    "                line.set_data(x, y)\n",
    "\n",
    "        def set_varlabels(self, labels):\n",
    "            self.set_thetagrids(np.degrees(theta), labels)\n",
    "\n",
    "        def _gen_axes_patch(self):\n",
    "            return self.draw_patch()\n",
    "\n",
    "        def _gen_axes_spines(self):\n",
    "            if frame == 'circle':\n",
    "                return PolarAxes._gen_axes_spines(self)\n",
    "            # The following is a hack to get the spines (i.e. the axes frame)\n",
    "            # to draw correctly for a polygon frame.\n",
    "\n",
    "            # spine_type must be 'left', 'right', 'top', 'bottom', or `circle`.\n",
    "            spine_type = 'circle'\n",
    "            verts = unit_poly_verts(theta)\n",
    "            # close off polygon by repeating first vertex\n",
    "            verts.append(verts[0])\n",
    "            path = Path(verts)\n",
    "\n",
    "            spine = Spine(self, spine_type, path)\n",
    "            spine.set_transform(self.transAxes)\n",
    "            return {'polar': spine}\n",
    "\n",
    "    register_projection(RadarAxes)\n",
    "    return theta\n",
    "\n",
    "\n",
    "def unit_poly_verts(theta):\n",
    "    \"\"\"Return vertices of polygon for subplot axes.\n",
    "\n",
    "    This polygon is circumscribed by a unit circle centered at (0.5, 0.5)\n",
    "    \"\"\"\n",
    "    x0, y0, r = [0.5] * 3\n",
    "    verts = [(r*np.cos(t) + x0, r*np.sin(t) + y0) for t in theta]\n",
    "    return verts\n",
    "\n",
    "\n",
    "dimensions = ['% reduction from normal cost', '% Verification', '% Supervision Months', \n",
    "         '% overcost Prevented', '% underfund Prevented', 'Mean Supervision net benefit', \n",
    "         '% useful supervision', '% false alarms']\n",
    "\n",
    "def example_data():\n",
    "    data = [\n",
    "        dimensions ,\n",
    "        ('Overall', [\n",
    "            [0, strat_1_cost['perc_supervision'] , 1 , 1, 1, 0.06, 0.01, 0.00],\n",
    "            [1- strat_2_cost['total_cost'] /strat_1_cost['total_cost'],  strat_2_cost['perc_supervision'], \n",
    "             perc_months_supervisions2, per_overcost_prevented2, perc_undercost_prevented2, \n",
    "             perc_false_alarms2, 0.01, 0.00],\n",
    "            [1- strat_3_cost['total_cost'] / strat_1_cost['total_cost'], strat_3_cost['perc_supervision'] , \n",
    "             perc_months_supervisions3, per_overcost_prevented3 , perc_undercost_prevented3,\n",
    "             perc_false_alarms3, 0.00, 0.00]]),\n",
    "        ('M0-M12', [\n",
    "            [1, strat_1_cost['perc_supervision'] , 1 , 1, 0.00, 0.06, 0.01, 0.00],\n",
    "            [strat_2_cost['total_cost'] /strat_1_cost['total_cost'],  strat_2_cost['perc_supervision'], \n",
    "             perc_months_supervisions2, per_overcost_prevented2, 0.00, 0.02, 0.01, 0.00],\n",
    "            [strat_3_cost['total_cost'] / strat_1_cost['total_cost'], strat_3_cost['perc_supervision'] , \n",
    "             perc_months_supervisions3, per_overcost_prevented3 , 0.05, 0.10, 0.00, 0.00]]),\n",
    "        ('M12-M36', [\n",
    "            [1, strat_1_cost['perc_supervision'] , 1 , 1, 0.00, 0.06, 0.01, 0.00],\n",
    "            [strat_2_cost['total_cost'] /strat_1_cost['total_cost'],  strat_2_cost['perc_supervision'], \n",
    "             perc_months_supervisions2, per_overcost_prevented2, 0.00, 0.02, 0.01, 0.00],\n",
    "            [strat_3_cost['total_cost'] / strat_1_cost['total_cost'], strat_3_cost['perc_supervision'] , \n",
    "             perc_months_supervisions3, per_overcost_prevented3 , 0.05, 0.10, 0.00, 0.00]]),\n",
    "        ('> M36', [\n",
    "            [1, strat_1_cost['perc_supervision'] , 1 , 1, 0.00, 0.06, 0.01, 0.00],\n",
    "            [strat_2_cost['total_cost'] /strat_1_cost['total_cost'],  strat_2_cost['perc_supervision'], \n",
    "             perc_months_supervisions2, per_overcost_prevented2, 0.00, 0.02, 0.01, 0.00],\n",
    "            [strat_3_cost['total_cost'] / strat_1_cost['total_cost'], strat_3_cost['perc_supervision'] , \n",
    "             perc_months_supervisions3, per_overcost_prevented3 , 0.05, 0.10, 0.00, 0.00]])\n",
    "    ]\n",
    "    return data\n",
    "\n",
    "\n",
    "N = len(dimensions)\n",
    "\n",
    "if __name__ == '__main__':\n",
    "    N = N\n",
    "    theta = radar_factory(N, frame='polygon')\n",
    "\n",
    "    data = example_data()\n",
    "    spoke_labels = data.pop(0)\n",
    "\n",
    "    fig, axes = plt.subplots(figsize=(9, 9), nrows=2, ncols=2,\n",
    "                             subplot_kw=dict(projection='radar'))\n",
    "    fig.subplots_adjust(wspace=0.25, hspace=0.20, top=0.85, bottom=0.05)\n",
    "\n",
    "    colors = ['b', 'r', 'g', 'm', 'y']\n",
    "    # Plot the four cases from the example data on separate axes\n",
    "    for ax, (title, case_data) in zip(axes.flatten(), data):\n",
    "        ax.set_rgrids([0.2, 0.4, 0.6, 0.8])\n",
    "        ax.set_title(title, weight='bold', size='medium', position=(0.5, 1.1),\n",
    "                     horizontalalignment='center', verticalalignment='center')\n",
    "        for d, color in zip(case_data, colors):\n",
    "            ax.plot(theta, d, color=color)\n",
    "            ax.fill(theta, d, facecolor=color, alpha=0.25)\n",
    "        ax.set_varlabels(spoke_labels)\n",
    "\n",
    "    # add legend relative to top-left plot\n",
    "    ax = axes[0, 0]\n",
    "    labels = ('Full Verification', 'Excess Cost', '2 diverging Z-scores', 'Factor 4', 'Factor 5')\n",
    "    legend = ax.legend(labels, loc=(0.9, .95),\n",
    "                       labelspacing=0.1, fontsize='small')\n",
    "\n",
    "    fig.text(0.5, 0.965, 'Comparison of different supervision scenarios',\n",
    "             horizontalalignment='center', color='black', weight='bold',\n",
    "             size='large')\n",
    "    plt.show()"
   ]
  },
  {
   "cell_type": "code",
   "execution_count": null,
   "metadata": {
    "collapsed": true
   },
   "outputs": [],
   "source": []
  }
 ],
 "metadata": {
  "kernelspec": {
   "display_name": "Python [conda root]",
   "language": "python",
   "name": "conda-root-py"
  },
  "language_info": {
   "codemirror_mode": {
    "name": "ipython",
    "version": 3
   },
   "file_extension": ".py",
   "mimetype": "text/x-python",
   "name": "python",
   "nbconvert_exporter": "python",
   "pygments_lexer": "ipython3",
   "version": "3.5.2"
  },
  "latex_metadata": {
   "affiliation": "Institute for Health Metrics and Evaluation",
   "author": "Grégoire Lurton",
   "title": "Monitoring Methods for OpenRBF"
  }
 },
 "nbformat": 4,
 "nbformat_minor": 2
}
