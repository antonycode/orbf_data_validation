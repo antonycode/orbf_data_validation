{
 "cells": [
  {
   "cell_type": "code",
   "execution_count": null,
   "metadata": {
    "collapsed": true
   },
   "outputs": [],
   "source": [
    "serie_test = data_orbf[(data_orbf.indicator_label == \"Nombre de nouvelles acceptances pour les méthodes contraceptives de longue durée(DIU et implant)\") & (data_orbf.entity_id == 3)]\n",
    "#autocorrelation_plot(serie_test.indicator_verified_value)\n",
    "serie_test = serie_test.set_index('date')"
   ]
  },
  {
   "cell_type": "code",
   "execution_count": 3,
   "metadata": {
    "collapsed": false
   },
   "outputs": [],
   "source": [
    "from __future__ import print_function\n",
    "import os.path\n",
    "from itertools import chain\n",
    "from jupyter_core.paths import jupyter_data_dir\n",
    "from notebook.nbextensions import _get_nbextension_dir as get_nbext_dir\n",
    "\n",
    "nbextensions_dirs = (get_nbext_dir() , os.path.join(jupyter_data_dir() , 'nbextensions'))"
   ]
  },
  {
   "cell_type": "code",
   "execution_count": null,
   "metadata": {
    "collapsed": true
   },
   "outputs": [],
   "source": [
    "yaml_files = []\n",
    "for root , dirs ,  files in chain.from_iterable(os.walk(nb_ext_dir , followlinks=True) for nb_ext_dir in nb_ext_di)"
   ]
  },
  {
   "cell_type": "code",
   "execution_count": null,
   "metadata": {
    "collapsed": true
   },
   "outputs": [],
   "source": [
    "plt.plot(serie_test.indicator_verified_value)"
   ]
  },
  {
   "cell_type": "code",
   "execution_count": null,
   "metadata": {
    "collapsed": true
   },
   "outputs": [],
   "source": [
    "# fit model\n",
    "model = ARIMA(serie_test.indicator_verified_value, order=(1,0,0))\n",
    "model_fit = model.fit(disp=0)\n",
    "#print(model_fit.summary())\n",
    "# plot residual errors\n",
    "residuals = pd.DataFrame(model_fit.resid)\n",
    "residuals.plot(legend = False)\n",
    "plt.show()\n",
    "residuals.plot(kind='kde' , legend = False)\n",
    "plt.show()\n",
    "#print(residuals.describe())"
   ]
  },
  {
   "cell_type": "code",
   "execution_count": null,
   "metadata": {
    "collapsed": true
   },
   "outputs": [],
   "source": [
    "X_obs = serie_test.indicator_claimed_value\n",
    "X_val = serie_test.indicator_verified_value\n",
    "\n",
    "size = int(len(X_obs) * 0.1)\n",
    "\n",
    "train, test = X_val[0:size], X_obs[size:len(X_obs)]\n",
    "verified = X_val[size : len(X_obs)]\n",
    "history = [x for x in train]\n",
    "predictions = []\n",
    "vals = []\n",
    "z_scores = []\n",
    "alarms = []\n",
    "\n",
    "for t in range(len(test)):\n",
    "    model = ARIMA(history , order=(1,0,0))\n",
    "    model_fit = model.fit(disp=0)\n",
    "    output = model_fit.forecast()\n",
    "    yhat = output[0].tolist()[0]\n",
    "    predictions.append(yhat)\n",
    "    obs = test[t]\n",
    "    z_score = np.abs((yhat - obs) / (model_fit.resid.std()))\n",
    "    if  z_score < 2:   \n",
    "        vals.append(obs)\n",
    "        history.append(obs)\n",
    "        alarms.append(False)\n",
    "    if z_score >= 2 :\n",
    "        vals.append(verified[t])\n",
    "        history.append(verified[t])\n",
    "        alarms.append(True)\n",
    "\n",
    "    z_scores.append(z_score)\n",
    "error = mean_squared_error(test, predictions)\n",
    "z_score = np.abs((pd.Series(predictions) - pd.Series(test.tolist())) / (model_fit.resid.std()))\n",
    "print('Test MSE: %.3f' % error)"
   ]
  },
  {
   "cell_type": "markdown",
   "metadata": {},
   "source": []
  },
  {
   "cell_type": "markdown",
   "metadata": {},
   "source": [
    "<div class=\"cite2c-biblio\"></div>"
   ]
  },
  {
   "cell_type": "code",
   "execution_count": null,
   "metadata": {
    "collapsed": true
   },
   "outputs": [],
   "source": []
  }
 ],
 "metadata": {
  "hide_input": false,
  "kernelspec": {
   "display_name": "Python 3",
   "language": "python",
   "name": "python3"
  },
  "language_info": {
   "codemirror_mode": {
    "name": "ipython",
    "version": 3
   },
   "file_extension": ".py",
   "mimetype": "text/x-python",
   "name": "python",
   "nbconvert_exporter": "python",
   "pygments_lexer": "ipython3",
   "version": "3.6.0"
  }
 },
 "nbformat": 4,
 "nbformat_minor": 2
}
