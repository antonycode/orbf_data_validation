{
 "cells": [
  {
   "cell_type": "markdown",
   "metadata": {},
   "source": [
    "Matthieu Antony, in AEDES, developed an algorithm to orient the program's supervision. This algorithm works in six steps :\n",
    "\n",
    "1. Computation of aggregate level of payment diminution for each indicator\n",
    "2. Determination of a subset of N indicators that cause most of payment diminutions\n",
    "3. Computation of a weighted correction rate of these indicators for each facility, using a priori weights displaying the qualitative interest of each activity\n",
    "4. Classification of facilities in three levels of risks, based on their weighted correction rates and correction amounts, and predefined threshold\n",
    "7. Monthly sampling of each facilities, with different sampling probabilities depending on facilities class"
   ]
  },
  {
   "cell_type": "code",
   "execution_count": 1,
   "metadata": {
    "collapsed": true
   },
   "outputs": [],
   "source": [
    "import sys\n",
    "sys.path.insert(0, '../../src/monitoring_algorithms/')\n",
    "from aedes_algorithm import *"
   ]
  },
  {
   "cell_type": "code",
   "execution_count": 2,
   "metadata": {
    "collapsed": false
   },
   "outputs": [],
   "source": [
    "%matplotlib inline\n",
    "\n",
    "store = pd.HDFStore('../../data/processed/orbf_benin.h5')\n",
    "tarifs = store['tarifs']\n",
    "data = store['data']\n",
    "store.close()\n",
    "\n",
    "data = data[data.period.apply(str).str[0:4] == '2016']\n",
    "data = data[data.date < '2016-11']\n",
    "data_test = data[data.geozone_name.isin(bm_zones)]\n",
    "data_test = data_test.set_index('indicator_label')\n",
    "\n",
    "## Making payment claimed and verified\n",
    "\n",
    "data_test['claimed_payment'] = list(data_test.indicator_claimed_value * data_test['indicator_tarif'])\n",
    "data_test['verified_payment'] = list(data_test.indicator_verified_value * data_test['indicator_tarif'])"
   ]
  },
  {
   "cell_type": "markdown",
   "metadata": {
    "collapsed": true
   },
   "source": [
    "## Replication of the hand results"
   ]
  },
  {
   "cell_type": "markdown",
   "metadata": {},
   "source": [
    "First I want to replicate the results Matthieu obtained by Manually processing the data in Excel. First I want to subset the data to the data reported by the WB Zones de Santé for the year 2016, and dropping all data collected after november 2016."
   ]
  },
  {
   "cell_type": "markdown",
   "metadata": {},
   "source": [
    "### Indicators ranking and subsetting\n",
    "\n",
    "The first step of the algorithm is to rank the indicators according to their importance in term of financial risk for the program. We want to evaluate the risk of each indicator in term of unduly claimed payments from the program. \n",
    "\n",
    "Let's $P_{ift}^c$ be the claimed payment of facility $f$ at time $t$ for the indicator $i$ and $P_{ift}^v$ the verified payment of this facility for this period for this indicator.\n",
    "\n",
    "The ranking algorithm runs in three steps :\n",
    "\n",
    "1. Computing the difference between claimed payment and verified payment :\n",
    "$$ \\Delta_{if} = \\sum_t P_{ift}^c - P_{ift}^v$$\n",
    "And $\\Delta_{if}$ will be positive if the payment was lowered, and negative if the payment was made higher after verification.\n",
    "Aggregated at program level, this difference is denoted $\\Delta_{i} = \\sum_{f,t} P_{ift}^c - P_{ift}$\n",
    "\n",
    "2. Computing the share of the financial risk that a given indicator holds for the program, computed as \n",
    "$$r_i = \\frac{\\Delta_i}{\\sum_i \\Delta_i}$$\n",
    "\n",
    "3. Finally, the indicators are ranked according in decreasing importance of their share in financial risk, and the progressive cumulative sum of this share is computed.  The first indicators of these ranking are considered critical, to keep indicators representing around 80\\% of the total risk  "
   ]
  },
  {
   "cell_type": "code",
   "execution_count": 3,
   "metadata": {
    "collapsed": false
   },
   "outputs": [
    {
     "ename": "ValueError",
     "evalue": "level > 0 or level < -1 only valid with  MultiIndex",
     "output_type": "error",
     "traceback": [
      "\u001b[0;31m---------------------------------------------------------------------------\u001b[0m",
      "\u001b[0;31mValueError\u001b[0m                                Traceback (most recent call last)",
      "\u001b[0;32m<ipython-input-3-ad1f7e17df5c>\u001b[0m in \u001b[0;36m<module>\u001b[0;34m()\u001b[0m\n\u001b[1;32m      1\u001b[0m \u001b[1;31m## Getting total amount of money the program got back\u001b[0m\u001b[1;33m\u001b[0m\u001b[1;33m\u001b[0m\u001b[0m\n\u001b[0;32m----> 2\u001b[0;31m \u001b[0mtable_1\u001b[0m \u001b[1;33m=\u001b[0m \u001b[0mmake_first_table\u001b[0m\u001b[1;33m(\u001b[0m\u001b[0mdata_test\u001b[0m\u001b[1;33m)\u001b[0m\u001b[1;33m\u001b[0m\u001b[0m\n\u001b[0m\u001b[1;32m      3\u001b[0m \u001b[0mtable_1\u001b[0m\u001b[1;33m\u001b[0m\u001b[0m\n",
      "\u001b[0;32mC:\\Users\\grlurton\\Documents\\orbf_data_quality\\src\\monitoring_algorithms\\aedes_algorithm.py\u001b[0m in \u001b[0;36mmake_first_table\u001b[0;34m(data)\u001b[0m\n\u001b[1;32m     32\u001b[0m \u001b[1;33m\u001b[0m\u001b[0m\n\u001b[1;32m     33\u001b[0m \u001b[1;32mdef\u001b[0m \u001b[0mmake_first_table\u001b[0m\u001b[1;33m(\u001b[0m\u001b[0mdata\u001b[0m\u001b[1;33m)\u001b[0m\u001b[1;33m:\u001b[0m\u001b[1;33m\u001b[0m\u001b[0m\n\u001b[0;32m---> 34\u001b[0;31m     \u001b[0mcol1\u001b[0m \u001b[1;33m=\u001b[0m \u001b[0mdata\u001b[0m\u001b[1;33m.\u001b[0m\u001b[0mgroupby\u001b[0m\u001b[1;33m(\u001b[0m\u001b[0mlevel\u001b[0m \u001b[1;33m=\u001b[0m \u001b[1;36m3\u001b[0m\u001b[1;33m)\u001b[0m\u001b[1;33m.\u001b[0m\u001b[0mapply\u001b[0m\u001b[1;33m(\u001b[0m\u001b[0mget_ecarts\u001b[0m\u001b[1;33m)\u001b[0m\u001b[1;33m\u001b[0m\u001b[0m\n\u001b[0m\u001b[1;32m     35\u001b[0m     \u001b[0mcol2\u001b[0m \u001b[1;33m=\u001b[0m \u001b[0mdata\u001b[0m\u001b[1;33m.\u001b[0m\u001b[0mgroupby\u001b[0m\u001b[1;33m(\u001b[0m\u001b[0mlevel\u001b[0m \u001b[1;33m=\u001b[0m \u001b[1;36m3\u001b[0m\u001b[1;33m)\u001b[0m\u001b[1;33m.\u001b[0m\u001b[0mapply\u001b[0m\u001b[1;33m(\u001b[0m\u001b[0mget_revenu_gagne\u001b[0m\u001b[1;33m)\u001b[0m\u001b[1;33m\u001b[0m\u001b[0m\n\u001b[1;32m     36\u001b[0m     \u001b[0mcol3\u001b[0m \u001b[1;33m=\u001b[0m \u001b[0mdata\u001b[0m\u001b[1;33m.\u001b[0m\u001b[0mgroupby\u001b[0m\u001b[1;33m(\u001b[0m\u001b[0mlevel\u001b[0m \u001b[1;33m=\u001b[0m \u001b[1;36m3\u001b[0m\u001b[1;33m)\u001b[0m\u001b[1;33m.\u001b[0m\u001b[0mapply\u001b[0m\u001b[1;33m(\u001b[0m\u001b[0mget_volume_financier_recupere\u001b[0m\u001b[1;33m)\u001b[0m\u001b[1;33m\u001b[0m\u001b[0m\n",
      "\u001b[0;32mC:\\Users\\grlurton\\Anaconda3\\envs\\orbf_monitoring\\lib\\site-packages\\pandas\\core\\generic.py\u001b[0m in \u001b[0;36mgroupby\u001b[0;34m(self, by, axis, level, as_index, sort, group_keys, squeeze, **kwargs)\u001b[0m\n\u001b[1;32m   3989\u001b[0m         return groupby(self, by=by, axis=axis, level=level, as_index=as_index,\n\u001b[1;32m   3990\u001b[0m                        \u001b[0msort\u001b[0m\u001b[1;33m=\u001b[0m\u001b[0msort\u001b[0m\u001b[1;33m,\u001b[0m \u001b[0mgroup_keys\u001b[0m\u001b[1;33m=\u001b[0m\u001b[0mgroup_keys\u001b[0m\u001b[1;33m,\u001b[0m \u001b[0msqueeze\u001b[0m\u001b[1;33m=\u001b[0m\u001b[0msqueeze\u001b[0m\u001b[1;33m,\u001b[0m\u001b[1;33m\u001b[0m\u001b[0m\n\u001b[0;32m-> 3991\u001b[0;31m                        **kwargs)\n\u001b[0m\u001b[1;32m   3992\u001b[0m \u001b[1;33m\u001b[0m\u001b[0m\n\u001b[1;32m   3993\u001b[0m     \u001b[1;32mdef\u001b[0m \u001b[0masfreq\u001b[0m\u001b[1;33m(\u001b[0m\u001b[0mself\u001b[0m\u001b[1;33m,\u001b[0m \u001b[0mfreq\u001b[0m\u001b[1;33m,\u001b[0m \u001b[0mmethod\u001b[0m\u001b[1;33m=\u001b[0m\u001b[1;32mNone\u001b[0m\u001b[1;33m,\u001b[0m \u001b[0mhow\u001b[0m\u001b[1;33m=\u001b[0m\u001b[1;32mNone\u001b[0m\u001b[1;33m,\u001b[0m \u001b[0mnormalize\u001b[0m\u001b[1;33m=\u001b[0m\u001b[1;32mFalse\u001b[0m\u001b[1;33m)\u001b[0m\u001b[1;33m:\u001b[0m\u001b[1;33m\u001b[0m\u001b[0m\n",
      "\u001b[0;32mC:\\Users\\grlurton\\Anaconda3\\envs\\orbf_monitoring\\lib\\site-packages\\pandas\\core\\groupby.py\u001b[0m in \u001b[0;36mgroupby\u001b[0;34m(obj, by, **kwds)\u001b[0m\n\u001b[1;32m   1509\u001b[0m         \u001b[1;32mraise\u001b[0m \u001b[0mTypeError\u001b[0m\u001b[1;33m(\u001b[0m\u001b[1;34m'invalid type: %s'\u001b[0m \u001b[1;33m%\u001b[0m \u001b[0mtype\u001b[0m\u001b[1;33m(\u001b[0m\u001b[0mobj\u001b[0m\u001b[1;33m)\u001b[0m\u001b[1;33m)\u001b[0m\u001b[1;33m\u001b[0m\u001b[0m\n\u001b[1;32m   1510\u001b[0m \u001b[1;33m\u001b[0m\u001b[0m\n\u001b[0;32m-> 1511\u001b[0;31m     \u001b[1;32mreturn\u001b[0m \u001b[0mklass\u001b[0m\u001b[1;33m(\u001b[0m\u001b[0mobj\u001b[0m\u001b[1;33m,\u001b[0m \u001b[0mby\u001b[0m\u001b[1;33m,\u001b[0m \u001b[1;33m**\u001b[0m\u001b[0mkwds\u001b[0m\u001b[1;33m)\u001b[0m\u001b[1;33m\u001b[0m\u001b[0m\n\u001b[0m\u001b[1;32m   1512\u001b[0m \u001b[1;33m\u001b[0m\u001b[0m\n\u001b[1;32m   1513\u001b[0m \u001b[1;33m\u001b[0m\u001b[0m\n",
      "\u001b[0;32mC:\\Users\\grlurton\\Anaconda3\\envs\\orbf_monitoring\\lib\\site-packages\\pandas\\core\\groupby.py\u001b[0m in \u001b[0;36m__init__\u001b[0;34m(self, obj, keys, axis, level, grouper, exclusions, selection, as_index, sort, group_keys, squeeze, **kwargs)\u001b[0m\n\u001b[1;32m    368\u001b[0m                                                     \u001b[0mlevel\u001b[0m\u001b[1;33m=\u001b[0m\u001b[0mlevel\u001b[0m\u001b[1;33m,\u001b[0m\u001b[1;33m\u001b[0m\u001b[0m\n\u001b[1;32m    369\u001b[0m                                                     \u001b[0msort\u001b[0m\u001b[1;33m=\u001b[0m\u001b[0msort\u001b[0m\u001b[1;33m,\u001b[0m\u001b[1;33m\u001b[0m\u001b[0m\n\u001b[0;32m--> 370\u001b[0;31m                                                     mutated=self.mutated)\n\u001b[0m\u001b[1;32m    371\u001b[0m \u001b[1;33m\u001b[0m\u001b[0m\n\u001b[1;32m    372\u001b[0m         \u001b[0mself\u001b[0m\u001b[1;33m.\u001b[0m\u001b[0mobj\u001b[0m \u001b[1;33m=\u001b[0m \u001b[0mobj\u001b[0m\u001b[1;33m\u001b[0m\u001b[0m\n",
      "\u001b[0;32mC:\\Users\\grlurton\\Anaconda3\\envs\\orbf_monitoring\\lib\\site-packages\\pandas\\core\\groupby.py\u001b[0m in \u001b[0;36m_get_grouper\u001b[0;34m(obj, key, axis, level, sort, mutated)\u001b[0m\n\u001b[1;32m   2382\u001b[0m                                      'index' % level)\n\u001b[1;32m   2383\u001b[0m             \u001b[1;32melif\u001b[0m \u001b[0mlevel\u001b[0m \u001b[1;33m>\u001b[0m \u001b[1;36m0\u001b[0m \u001b[1;32mor\u001b[0m \u001b[0mlevel\u001b[0m \u001b[1;33m<\u001b[0m \u001b[1;33m-\u001b[0m\u001b[1;36m1\u001b[0m\u001b[1;33m:\u001b[0m\u001b[1;33m\u001b[0m\u001b[0m\n\u001b[0;32m-> 2384\u001b[0;31m                 raise ValueError('level > 0 or level < -1 only valid with '\n\u001b[0m\u001b[1;32m   2385\u001b[0m                                  ' MultiIndex')\n\u001b[1;32m   2386\u001b[0m \u001b[1;33m\u001b[0m\u001b[0m\n",
      "\u001b[0;31mValueError\u001b[0m: level > 0 or level < -1 only valid with  MultiIndex"
     ]
    }
   ],
   "source": [
    "## Getting total amount of money the program got back \n",
    "table_1 = make_first_table(data_test)\n",
    "table_1"
   ]
  },
  {
   "cell_type": "code",
   "execution_count": null,
   "metadata": {
    "collapsed": false
   },
   "outputs": [],
   "source": [
    "indicateurs_critiques = list(table_1[table_1['% Cumulé'] < 0.8].index)\n",
    "indicateurs_critiques\n",
    "\n",
    "data_classif = data_test.loc[indicateurs_critiques]\n",
    "data_classif = data_classif.reset_index()"
   ]
  },
  {
   "cell_type": "markdown",
   "metadata": {},
   "source": [
    "### Weighted Difference\n",
    "\n",
    "In a second step, facilities are given a weighted metric of correction importance. This correction metric is linear combination of fixed importance weights given to each indicator, and the sum of monetary corrections by indicator. Noting $w_i$ the weight associated with indicator $i$, the weighted difference metric is :\n",
    "\n",
    "$$\\delta_f = \\sum_{i} w_i \\Delta_{if}$$\n",
    "\n",
    "where :\n",
    "\n",
    "$$ w_j = \\frac{\\Delta_j}{\\max_i(\\Delta_i)}$$"
   ]
  },
  {
   "cell_type": "code",
   "execution_count": null,
   "metadata": {
    "collapsed": false
   },
   "outputs": [],
   "source": [
    "ponderation = table_1['Volume Financier Récupéré'] / max(table_1['Volume Financier Récupéré'])\n",
    "\n",
    "print(ponderation)"
   ]
  },
  {
   "cell_type": "code",
   "execution_count": null,
   "metadata": {
    "collapsed": false
   },
   "outputs": [],
   "source": [
    "ecart_moyen_pondere = data_classif.groupby(['geozone_name' , 'entity_name']).apply(get_ecart_pondere , ponderation = ponderation)"
   ]
  },
  {
   "cell_type": "markdown",
   "metadata": {},
   "source": [
    "### Facilities Classification"
   ]
  },
  {
   "cell_type": "markdown",
   "metadata": {},
   "source": [
    "Finally, each facility in classified, according to a combination of the amount of payment they receive, and their specific weighted difference. This two dimensions classifiation is made according to a simple rule :\n",
    "\n",
    "* Facilities receiving payments over the 40th percentile of all payments, and with a weighted difference indice over 0.1 are classified as high risk.\n",
    "* Facilities receiving payments under the 40th percentile of all payments, and with a weighted difference indice under 0.1 are classified as low risk.\n",
    "* All other facilities are classified as a moderate level of risk\n",
    "\n",
    "Figure 1 displays the classification of facilities in the World Bank zones. We can see that the dispersion of facilities in the plane varies greatly between departements. Banikoara does not have a lot of variation in terms of weighted difference, and most of the classification is made along the payments distributions. Figure 2 shows the distribution of facilities classes. We see that in most departments, we have an equal number of facilities in red and orange category, with green facilities being only a minor part of remaining facilites."
   ]
  },
  {
   "cell_type": "code",
   "execution_count": null,
   "metadata": {
    "collapsed": false
   },
   "outputs": [],
   "source": [
    "fig=plt.figure(figsize=(18, 16), dpi= 80, facecolor='w', edgecolor='k')\n",
    "for i in range(1,9):\n",
    "    plt.subplot(4,2,i) \n",
    "    departement = list(ecart_moyen_pondere.index.levels[0])[i-1]\n",
    "    make_cadran(ecart_moyen_pondere.loc[departement])\n",
    "    plt.title(departement)"
   ]
  },
  {
   "cell_type": "code",
   "execution_count": null,
   "metadata": {
    "collapsed": true
   },
   "outputs": [],
   "source": [
    "def classify_facilities(ecart_moyen_pondere):\n",
    "    q4_rev = ecart_moyen_pondere['Montant'].quantile(0.4)\n",
    "    ecart_moyen_pondere['Class'] = 'red'\n",
    "    ecart_moyen_pondere.loc[(ecart_moyen_pondere['Montant'] <= q4_rev) &\n",
    "                            (ecart_moyen_pondere['Ecart Moyen Pondéré'] <= 0.1) , 'Class'] = 'green' \n",
    "    ecart_moyen_pondere.loc[(ecart_moyen_pondere['Montant'] <= q4_rev) & \n",
    "                            (ecart_moyen_pondere['Ecart Moyen Pondéré'] > 0.1) , 'Class'] = 'orange'\n",
    "    ecart_moyen_pondere.loc[(ecart_moyen_pondere['Montant'] > q4_rev) & \n",
    "                            (ecart_moyen_pondere['Ecart Moyen Pondéré'] <= 0.1), 'Class'] = 'orange'\n",
    "    ecart_moyen_pondere = ecart_moyen_pondere.sort('Class')\n",
    "    return ecart_moyen_pondere"
   ]
  },
  {
   "cell_type": "code",
   "execution_count": null,
   "metadata": {
    "collapsed": false
   },
   "outputs": [],
   "source": [
    "classified_data = ecart_moyen_pondere.groupby(level = 0).apply(classify_facilities)"
   ]
  },
  {
   "cell_type": "code",
   "execution_count": null,
   "metadata": {
    "collapsed": false
   },
   "outputs": [],
   "source": [
    "def print_classification(df):\n",
    "    color = df if df in ['red' , 'green' , 'orange'] else 'white'\n",
    "    return  'background-color: %s' % color"
   ]
  },
  {
   "cell_type": "code",
   "execution_count": null,
   "metadata": {
    "collapsed": false
   },
   "outputs": [],
   "source": [
    "classified_data.loc['BANIKOARA'].style.applymap(print_classification)"
   ]
  },
  {
   "cell_type": "code",
   "execution_count": null,
   "metadata": {
    "collapsed": false
   },
   "outputs": [],
   "source": [
    "def bar_cols(col_data , order_cols = ['green' , 'orange' , 'red']):\n",
    "    o = []\n",
    "    for col in order_cols:\n",
    "        try :\n",
    "            n = col_data.loc[col]\n",
    "            o.append(n)\n",
    "        except KeyError :\n",
    "            o.append(0)\n",
    "    \n",
    "    plt.bar([0,1,2], o , color = order_cols)\n",
    "    plt.xticks([0,1,2] , order_cols)"
   ]
  },
  {
   "cell_type": "code",
   "execution_count": null,
   "metadata": {
    "collapsed": false
   },
   "outputs": [],
   "source": [
    "classes_counts = classified_data.Class.groupby(level = 0).value_counts()\n",
    "\n",
    "fig=plt.figure(figsize=(18, 16), dpi= 80, facecolor='w', edgecolor='k')\n",
    "for i in range(1,9):\n",
    "    plt.subplot(4,2,i) \n",
    "    departement = list(classes_counts.index.levels[0])[i-1]\n",
    "    bar_cols(classes_counts.loc[departement])\n",
    "    plt.title(departement , fontsize=15)"
   ]
  },
  {
   "cell_type": "markdown",
   "metadata": {},
   "source": [
    "## Routine implementation\n",
    "\n",
    "In a second step, I impement a simple unique function to classify facilities. In a second step, I run this routine separately in each departement. The full routine takes less than 3 seconds to run."
   ]
  },
  {
   "cell_type": "code",
   "execution_count": null,
   "metadata": {
    "collapsed": false
   },
   "outputs": [],
   "source": [
    "%%time\n",
    "classified_facilities = data.groupby('geozone_name').apply(make_facilities_classification , \n",
    "                                                           ponderation = ponderation , \n",
    "                                                           perc_risk =  0.8)"
   ]
  },
  {
   "cell_type": "code",
   "execution_count": null,
   "metadata": {
    "collapsed": false
   },
   "outputs": [],
   "source": [
    "classes_counts = classified_facilities.groupby(level = 0).Class.value_counts()"
   ]
  },
  {
   "cell_type": "code",
   "execution_count": null,
   "metadata": {
    "collapsed": false,
    "scrolled": true
   },
   "outputs": [],
   "source": [
    "fig=plt.figure(figsize=(18, 16), dpi= 80, facecolor='w', edgecolor='k')\n",
    "for i in range(1,17):\n",
    "    plt.subplot(4,4,i) \n",
    "    departement = list(classes_counts.index.levels[0])[i-1]\n",
    "    bar_cols(classes_counts.loc[departement])\n",
    "    departement =departement.replace('’' , \"'\")\n",
    "    plt.title(departement , fontsize=15)"
   ]
  },
  {
   "cell_type": "markdown",
   "metadata": {
    "collapsed": true
   },
   "source": [
    "## Supervision simulation\n",
    "\n",
    "Once the facilities have been classified, facilities to be monitored each month are drawn as to maximize the  supervision of most volatile facilities, and minimize the supervision of less volatile facilities. The supervision probability, for each facility, each month, is :\n",
    "\n",
    "| Category | Monthly probability of supervision|\n",
    "|----------|-----------------------------------|\n",
    "| Green    |   20 %                            |\n",
    "| Orange   |   60 %                            |\n",
    "| Red      |  100 %                            |\n"
   ]
  },
  {
   "cell_type": "code",
   "execution_count": null,
   "metadata": {
    "collapsed": false
   },
   "outputs": [],
   "source": [
    "def draw_supervision_months(facilities):\n",
    "    green_fac = facilities[facilities['Class'] == 'green']\n",
    "    orange_fac = facilities[facilities['Class'] == 'orange']\n",
    "    \n",
    "    green_sample = green_fac.sample(frac = 0.2)\n",
    "    orange_sample = orange_fac.sample(frac = 0.8)\n",
    "    \n",
    "    return {'green_sample':green_sample , 'orange_sample':orange_sample}    "
   ]
  },
  {
   "cell_type": "code",
   "execution_count": null,
   "metadata": {
    "collapsed": false
   },
   "outputs": [],
   "source": [
    "out = draw_supervision_months(classified_data)\n",
    "\n",
    "classified_facilities.Class.value_counts()\n",
    "#print(len(out['orange_sample']))"
   ]
  },
  {
   "cell_type": "code",
   "execution_count": null,
   "metadata": {
    "collapsed": true
   },
   "outputs": [],
   "source": [
    "if date == 1:\n",
    "    dat = data[data.date < date]\n",
    "    classified_facilities = data.groupby('geozone_name').apply(make_facilities_classification , \n",
    "                                                           ponderation = ponderation , \n",
    "                                                           perc_risk =  0.8)\n"
   ]
  }
 ],
 "metadata": {
  "hide_input": false,
  "kernelspec": {
   "display_name": "Python 3",
   "language": "python",
   "name": "python3"
  },
  "language_info": {
   "codemirror_mode": {
    "name": "ipython",
    "version": 3
   },
   "file_extension": ".py",
   "mimetype": "text/x-python",
   "name": "python",
   "nbconvert_exporter": "python",
   "pygments_lexer": "ipython3",
   "version": "3.6.0"
  },
  "toc": {
   "colors": {
    "hover_highlight": "#DAA520",
    "running_highlight": "#FF0000",
    "selected_highlight": "#FFD700"
   },
   "moveMenuLeft": true,
   "nav_menu": {
    "height": "102px",
    "width": "252px"
   },
   "navigate_menu": true,
   "number_sections": true,
   "sideBar": true,
   "threshold": 4,
   "toc_cell": false,
   "toc_section_display": "block",
   "toc_window_display": true,
   "widenNotebook": false
  }
 },
 "nbformat": 4,
 "nbformat_minor": 2
}
