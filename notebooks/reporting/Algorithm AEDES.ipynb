{
 "cells": [
  {
   "cell_type": "markdown",
   "metadata": {},
   "source": [
    "Matthieu Antony, in AEDES, developed an algorithm to orient the program's supervision. This algorithm works in six steps :\n",
    "\n",
    "1. Computation of aggregate level of payment diminution for each indicator\n",
    "2. Determination of a subset of N indicators that cause most of payment diminutions\n",
    "3. Computation of a weighted correction rate of these indicators for each facility, using a priori weights displaying the qualitative interest of each activity\n",
    "4. Computation of the weighted correction amount for these indicators for each facility\n",
    "5. Classification of facilities in three levels of risks, based on their weighted correction rates and correction amounts, and predefined threshold\n",
    "6. Monthly sampling of each facilities, with different sampling probabilities depending on facilities class\n",
    "\n",
    "Let's try and replicate his results"
   ]
  },
  {
   "cell_type": "code",
   "execution_count": 4,
   "metadata": {
    "collapsed": false
   },
   "outputs": [],
   "source": [
    "import pandas as pd\n",
    "import pickle\n",
    "import numpy as np\n",
    "\n",
    "# For warnings\n",
    "import warnings\n",
    "warnings.filterwarnings('ignore')\n",
    "\n",
    "store = pd.HDFStore('../../data/processed/orbf_benin.h5')\n",
    "tarifs = store['tarifs']\n",
    "data = store['data']\n",
    "store.close()"
   ]
  },
  {
   "cell_type": "markdown",
   "metadata": {},
   "source": [
    "First let's subset the data to the data reported by the WB Zones de Santé for the year 2016 :"
   ]
  },
  {
   "cell_type": "code",
   "execution_count": 5,
   "metadata": {
    "collapsed": false
   },
   "outputs": [],
   "source": [
    "bm_zones =['OUIDAH-KPOMASSE-TORI-BOSSITO', 'BANIKOARA', 'LOKOSSA-ATHIEME' , 'ADJOHOUN-BONOU-DANGBO',       'KOUANDE-OUASSA-PEHUNCO-KEROU','COVE-ZANGNANADO-OUINHI', 'PORTONOVO-AGUEGUES-SEME-PODJI', 'BOHICON-ZAKPOTA-ZOGBODOMEY']\n",
    "\n",
    "data = data[data.geozone_name.isin(bm_zones)]\n",
    "data = data[data.period.apply(str).str[0:4] == '2016']\n",
    "\n",
    "\n",
    "data = data.set_index('indicator_label')"
   ]
  },
  {
   "cell_type": "markdown",
   "metadata": {},
   "source": [
    "I then want to reproduce the first table in the presentation"
   ]
  },
  {
   "cell_type": "code",
   "execution_count": 23,
   "metadata": {
    "collapsed": false
   },
   "outputs": [
    {
     "data": {
      "text/plain": [
       "indicator_label\n",
       "Accouchement eutocique assiste                                                                                         0.023308\n",
       "Accouchement eutocique assiste femme indigente (prime additionnelle)                                                   0.335878\n",
       "Accouchement: reference d'urgence pour accouchement                                                                    0.233482\n",
       "CPN 1 standard (y compris VAT, MILD et supplémentation en micronutriments)                                             0.070470\n",
       "CPN 1 standard (y compris VAT, MILD et supplémentation en micronutriments) pour les Indigentes (prime additionelle)    0.682927\n",
       "Clients sous traitement ARV suivi pendant les 6 premiers mois                                                          0.418546\n",
       "Consultation postnatale 1 (du 7ème au 10ème jour)                                                                      0.060664\n",
       "Consultation prenatale quatrieme visite standard                                                                       0.076466\n",
       "Consultation prénatale quatrième visite standard femme indigente (prime additionnnelle)                                0.040541\n",
       "Depistage des cas TBC positifs                                                                                         0.058728\n",
       "Diagnostic et traitement des cas de paludisme grave chez les femmes enceintes                                          0.076237\n",
       "Diagnostic et traitement des cas de paludisme simple chez les enfants                                                  0.033221\n",
       "Diagnostic et traitement des cas de paludisme simple chez les femmes enceintes                                         0.032567\n",
       "Diagnostic et traitement des cas de paludisme sévère chez les enfants                                                  0.132270\n",
       "Enfants completement vaccines                                                                                          0.054679\n",
       "Enfants éligibles au traitement ARV et qui ont été initié au traitement ARV au cours du mois                           0.045455\n",
       "Femmes enceintes dépistées séropositive et mise sous traitement ARV(tri prophylaxie/trithérapie)                       0.130332\n",
       "IST diagnostiqués et traités                                                                                           0.028653\n",
       "Nombre d'enfants ayant reçu le Penta 3                                                                                 0.031504\n",
       "Nombre de cas TBC traites et gueris                                                                                    0.012024\n",
       "Nombre de nouvelles acceptances pour les méthodes contraceptives de courte durée                                       0.031493\n",
       "Nombre de nouvelles acceptances pour les méthodes contraceptives de longue durée(DIU et implant)                       0.020254\n",
       "Nouvelle Consultation Curative                                                                                         0.016377\n",
       "Nouvelles Consultations curatives Indigents (prime additionnelle)                                                      0.301075\n",
       "Reference et patient arrive a l'hopital                                                                                0.468352\n",
       "Suivi de la croissance: enfants de 11 a 59 mois consultes                                                              0.065692\n",
       "Vaccination au BCG                                                                                                     0.043634\n",
       "consulation postnatale 3 (42ème au 45ème jour suivant l'accouchement)                                                  0.101216\n",
       "dtype: float64"
      ]
     },
     "execution_count": 23,
     "metadata": {},
     "output_type": "execute_result"
    }
   ],
   "source": [
    "## Making payment claimed and verified\n",
    "\n",
    "data['claimed_payment'] = list(data.indicator_claimed_value * tarifs)\n",
    "data['verified_payment'] = list(data.indicator_verified_value * tarifs)\n",
    "\n",
    "## Getting total amount of money the program got back \n",
    "def get_ecarts(data):\n",
    "    return sum(data['indicator_claimed_value'] - data['indicator_verified_value']) / sum(data['indicator_claimed_value'])\n",
    "\n",
    "def get_revenu_gagne(data):\n",
    "    return sum(data['claimed_payment'])\n",
    "\n",
    "def get_volume_financier_recupere(data) :\n",
    "    return sum(data['verified_payment'] - data['claimed_payment'])\n",
    "\n",
    "def make_first_table(data):\n",
    "    col1 = data.groupby(level = 0).apply(get_ecarts)\n",
    "    col2 = data.groupby(level = 0).apply(get_revenu_gagne)\n",
    "    col3 = data.groupby(level = 0).apply(get_volume_financier_recupere)\n",
    "    col4 = col3 / get_volume_financier_recupere(data)\n",
    "    col5 = col4.cumsum()\n",
    "    return col1\n",
    "    \n",
    "    output = col1.to_frame().merge(col2.to_frame()).merge(col3.to_frame).merge(col4.to_frame).merge(col5.to_frame)\n",
    "    \n",
    "    output = output.sort_values('% Volume Financier Récupéré')\n",
    "    return output\n",
    "\n",
    "\n",
    "make_first_table(data)"
   ]
  },
  {
   "cell_type": "code",
   "execution_count": 37,
   "metadata": {
    "collapsed": true
   },
   "outputs": [],
   "source": [
    "def make_first_table(data):\n",
    "    col1 = data.groupby(level = 0).apply(get_ecarts)\n",
    "    col2 = data.groupby(level = 0).apply(get_revenu_gagne)\n",
    "    col3 = data.groupby(level = 0).apply(get_volume_financier_recupere)\n",
    "    col4 = col3 / get_volume_financier_recupere(data)\n",
    "    col5 = col4.cumsum()\n",
    "    return col2"
   ]
  },
  {
   "cell_type": "code",
   "execution_count": 38,
   "metadata": {
    "collapsed": true
   },
   "outputs": [],
   "source": [
    "a = make_first_table(data)"
   ]
  },
  {
   "cell_type": "code",
   "execution_count": 32,
   "metadata": {
    "collapsed": false
   },
   "outputs": [
    {
     "data": {
      "text/plain": [
       "1614799999.9999998"
      ]
     },
     "execution_count": 32,
     "metadata": {},
     "output_type": "execute_result"
    }
   ],
   "source": [
    "113036000/ 0.07"
   ]
  },
  {
   "cell_type": "code",
   "execution_count": 43,
   "metadata": {
    "collapsed": false
   },
   "outputs": [
    {
     "data": {
      "text/plain": [
       "array([ 330.])"
      ]
     },
     "execution_count": 43,
     "metadata": {},
     "output_type": "execute_result"
    }
   ],
   "source": [
    "data.indicator_tarif['Diagnostic et traitement des cas de paludisme simple chez les enfants'].unique()"
   ]
  },
  {
   "cell_type": "code",
   "execution_count": 39,
   "metadata": {
    "collapsed": false
   },
   "outputs": [],
   "source": [
    "b = a * tarifs"
   ]
  },
  {
   "cell_type": "code",
   "execution_count": 48,
   "metadata": {
    "collapsed": false
   },
   "outputs": [
    {
     "data": {
      "text/plain": [
       "112.31620903454385"
      ]
     },
     "execution_count": 48,
     "metadata": {},
     "output_type": "execute_result"
    }
   ],
   "source": [
    "1.902075e+10 / 169350000 "
   ]
  },
  {
   "cell_type": "code",
   "execution_count": 49,
   "metadata": {
    "collapsed": false
   },
   "outputs": [
    {
     "data": {
      "text/plain": [
       "26.7103032214818"
      ]
     },
     "execution_count": 49,
     "metadata": {},
     "output_type": "execute_result"
    }
   ],
   "source": [
    "3000.0 / 112.31620903454385"
   ]
  },
  {
   "cell_type": "code",
   "execution_count": 44,
   "metadata": {
    "collapsed": false
   },
   "outputs": [
    {
     "data": {
      "text/plain": [
       "Diagnostic et traitement des cas de paludisme simple chez les enfants                                                    330.0\n",
       "Diagnostic et traitement des cas de paludisme sévère chez les enfants                                                   5890.0\n",
       "Diagnostic et traitement des cas de paludisme simple chez les femmes enceintes                                           655.0\n",
       "Diagnostic et traitement des cas de paludisme grave chez les femmes enceintes                                           5365.0\n",
       "Femmes enceintes dépistées séropositive et mise sous traitement ARV(tri prophylaxie/trithérapie)                       15750.0\n",
       "Clients sous traitement ARV suivi pendant les 6 premiers mois                                                           8750.0\n",
       "Enfants éligibles au traitement ARV et qui ont été initié au traitement ARV au cours du mois                           19250.0\n",
       "Depistage des cas TBC positifs                                                                                         15000.0\n",
       "Nombre de cas TBC traites et gueris                                                                                    27000.0\n",
       "IST diagnostiqués et traités                                                                                             700.0\n",
       "Consultation prenatale quatrieme visite standard                                                                        3000.0\n",
       "Consultation prénatale quatrième visite standard femme indigente (prime additionnnelle)                                 3000.0\n",
       "Accouchement eutocique assiste                                                                                          7500.0\n",
       "Accouchement eutocique assiste femme indigente (prime additionnelle)                                                    6000.0\n",
       "Accouchement: reference d'urgence pour accouchement                                                                     3600.0\n",
       "Nouvelle Consultation Curative                                                                                           300.0\n",
       "Enfants completement vaccines                                                                                           3000.0\n",
       "Suivi de la croissance: enfants de 11 a 59 mois consultes                                                                150.0\n",
       "Reference et patient arrive a l'hopital                                                                                 4500.0\n",
       "Nouvelles Consultations curatives Indigents (prime additionnelle)                                                       1750.0\n",
       "CPN 1 standard (y compris VAT, MILD et supplémentation en micronutriments)                                              3500.0\n",
       "CPN 1 standard (y compris VAT, MILD et supplémentation en micronutriments) pour les Indigentes (prime additionelle)     2800.0\n",
       "Consultation postnatale 1 (du 7ème au 10ème jour)                                                                       3500.0\n",
       "consulation postnatale 3 (42ème au 45ème jour suivant l'accouchement)                                                   1750.0\n",
       "Nombre de nouvelles acceptances pour les méthodes contraceptives de longue durée(DIU et implant)                        6300.0\n",
       "Nombre de nouvelles acceptances pour les méthodes contraceptives de courte durée                                        1750.0\n",
       "Vaccination au BCG                                                                                                       875.0\n",
       "Nombre d'enfants ayant reçu le Penta 3                                                                                   700.0\n",
       "dtype: float64"
      ]
     },
     "execution_count": 44,
     "metadata": {},
     "output_type": "execute_result"
    }
   ],
   "source": [
    "tarifs"
   ]
  },
  {
   "cell_type": "code",
   "execution_count": 51,
   "metadata": {
    "collapsed": false
   },
   "outputs": [
    {
     "data": {
      "text/plain": [
       "Accouchement eutocique assiste                                                                                         1.069013e+11\n",
       "Accouchement eutocique assiste femme indigente (prime additionnelle)                                                   2.301189e+11\n",
       "Accouchement: reference d'urgence pour accouchement                                                                    6.512990e+11\n",
       "CPN 1 standard (y compris VAT, MILD et supplémentation en micronutriments)                                             4.259325e+10\n",
       "CPN 1 standard (y compris VAT, MILD et supplémentation en micronutriments) pour les Indigentes (prime additionelle)    3.535938e+11\n",
       "Clients sous traitement ARV suivi pendant les 6 premiers mois                                                          3.054844e+10\n",
       "Consultation postnatale 1 (du 7ème au 10ème jour)                                                                      5.812076e+11\n",
       "Consultation prenatale quatrieme visite standard                                                                       3.696394e+10\n",
       "Consultation prénatale quatrième visite standard femme indigente (prime additionnnelle)                                8.612760e+10\n",
       "Depistage des cas TBC positifs                                                                                         9.247950e+11\n",
       "Diagnostic et traitement des cas de paludisme grave chez les femmes enceintes                                          7.090572e+11\n",
       "Diagnostic et traitement des cas de paludisme simple chez les enfants                                                  1.138327e+11\n",
       "Diagnostic et traitement des cas de paludisme simple chez les femmes enceintes                                         1.002857e+10\n",
       "Diagnostic et traitement des cas de paludisme sévère chez les enfants                                                  4.629540e+09\n",
       "Enfants completement vaccines                                                                                          1.902075e+10\n",
       "Enfants éligibles au traitement ARV et qui ont été initié au traitement ARV au cours du mois                           1.864738e+12\n",
       "Femmes enceintes dépistées séropositive et mise sous traitement ARV(tri prophylaxie/trithérapie)                       1.808100e+09\n",
       "IST diagnostiqués et traités                                                                                           5.560800e+09\n",
       "Nombre d'enfants ayant reçu le Penta 3                                                                                 1.531005e+10\n",
       "Nombre de cas TBC traites et gueris                                                                                    2.101950e+11\n",
       "Nombre de nouvelles acceptances pour les méthodes contraceptives de courte durée                                       1.448528e+10\n",
       "Nombre de nouvelles acceptances pour les méthodes contraceptives de longue durée(DIU et implant)                       1.469097e+11\n",
       "Nouvelle Consultation Curative                                                                                         5.615175e+09\n",
       "Nouvelles Consultations curatives Indigents (prime additionnelle)                                                      2.995020e+10\n",
       "Reference et patient arrive a l'hopital                                                                                1.983838e+11\n",
       "Suivi de la croissance: enfants de 11 a 59 mois consultes                                                              7.695450e+08\n",
       "Vaccination au BCG                                                                                                     5.534167e+10\n",
       "consulation postnatale 3 (42ème au 45ème jour suivant l'accouchement)                                                  1.139250e+09\n",
       "dtype: float64"
      ]
     },
     "execution_count": 51,
     "metadata": {},
     "output_type": "execute_result"
    }
   ],
   "source": [
    "b.abs()"
   ]
  },
  {
   "cell_type": "code",
   "execution_count": null,
   "metadata": {
    "collapsed": true
   },
   "outputs": [],
   "source": []
  }
 ],
 "metadata": {
  "hide_input": false,
  "kernelspec": {
   "display_name": "Python 3",
   "language": "python",
   "name": "python3"
  },
  "language_info": {
   "codemirror_mode": {
    "name": "ipython",
    "version": 3
   },
   "file_extension": ".py",
   "mimetype": "text/x-python",
   "name": "python",
   "nbconvert_exporter": "python",
   "pygments_lexer": "ipython3",
   "version": "3.6.0"
  }
 },
 "nbformat": 4,
 "nbformat_minor": 2
}
