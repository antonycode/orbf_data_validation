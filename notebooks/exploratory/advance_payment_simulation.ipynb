{
 "cells": [
  {
   "cell_type": "code",
   "execution_count": 1,
   "metadata": {
    "tags": [
     "remove_cell"
    ]
   },
   "outputs": [],
   "source": [
    "import os\n",
    "try:\n",
    "    os.chdir(os.path.join(os.getcwd(), '../..'))\n",
    "except:\n",
    "    pass"
   ]
  },
  {
   "cell_type": "code",
   "execution_count": 2,
   "metadata": {
    "tags": [
     "remove_cell"
    ]
   },
   "outputs": [],
   "source": [
    "import pandas as pd \n",
    "import matplotlib.pyplot as plt\n",
    "import matplotlib\n",
    "import numpy as np\n",
    "import warnings\n",
    "warnings.filterwarnings('ignore')\n",
    "                        \n",
    "data = pd.read_csv('data/raw/pdss_data/compiled.csv')"
   ]
  },
  {
   "cell_type": "markdown",
   "metadata": {},
   "source": [
    "# Définition d'une avance sur paiement pour le programme RBF du PDSS\n",
    "\n",
    "Grégoire Lurton  - [@grlurton](https://twitter.com/grlurton)\n",
    "\n",
    "Dans le cadre du programme RBV implémenté par le PDSS, on souhaite avoir la possibilité de faire des paiements au Formations Sanitaires avant d'avoir finalisé la validation des donnés. Cette souplesse serait permettrait de limiter les retards de paiement aux FOSAs, et par conséquent les problèmes de trésorerie qui peuvent en découler.\n",
    "\n",
    "Pour décider quelle règle mettre en oeuvre pour définir ces avances sur paiement, on simule l'implémentation de différentes règles sur des données historiques disponibles dans ORBF. Spécifiquement, cette analyse utilise les données ORBF du PDSS du quatrième trimestre 2017 au premier trimestre 2019.\n",
    "\n",
    "## Rapide description des données"
   ]
  },
  {
   "cell_type": "code",
   "execution_count": 3,
   "metadata": {
    "tags": [
     "remove_cell"
    ]
   },
   "outputs": [
    {
     "name": "stdout",
     "output_type": "stream",
     "text": [
      "N payments : 9937\n",
      "Median payments : 2249.3\n",
      "Maximum payments : 36213.4\n",
      "Average Overclaim Ratio : 9.48448648430564\n",
      "Overclaim Ratio Higher Quantiles : 0.50     1.602250\n",
      "0.75     2.392737\n",
      "0.85     3.487607\n",
      "0.90     5.700777\n",
      "0.95    24.526793\n",
      "Name: overclaim_ratio, dtype: float64\n"
     ]
    }
   ],
   "source": [
    "def compute_payment(data):\n",
    "    claimed = sum(data.claimed_value * data.tarif)\n",
    "    validated = sum(data.validated_value * data.tarif)\n",
    "    return pd.DataFrame({\"claimed\":[claimed], \"validated\":[validated]})\n",
    "\n",
    "payments = data.groupby([\"province\",\"zone\",\"aire\",\"fosa\", \"year\",\"quarter\"]).apply(compute_payment)\n",
    "payments = payments.reset_index()\n",
    "payments[\"period\"] = payments.year.astype(str) + payments.quarter.astype(str)\n",
    "\n",
    "payments = payments[payments.period > \"20173\"]\n",
    "\n",
    "print(\"N payments : \" + str(len(payments)))\n",
    "print(\"Median payments : \" + str(payments.validated.median()))\n",
    "print(\"Maximum payments : \" + str(payments.validated.max()))\n",
    "\n",
    "payments[\"overclaim_ratio\"] = payments.claimed/payments.validated\n",
    "print(\"Average Overclaim Ratio : \" + str(payments.overclaim_ratio[payments.validated > 0].mean()))\n",
    "print(\"Overclaim Ratio Higher Quantiles : \" + str(payments.overclaim_ratio.quantile([.5,.75,.85, .90,.95])))"
   ]
  },
  {
   "cell_type": "markdown",
   "metadata": {},
   "source": [
    "Les données sont composées de 9937 paiements. Le paiement médian était de 2250 USD, et le maximum était de 36213 USD. Dans 50% des cas, les données déclarées surestimaient les données validées de moins de 60%. Dans 10% des cas, les données déclarées représentaient plus de 5,7 fois la valeur finalement validées, et dans 5% des cas, les données déclarées étaient plus de 24 fois les données validées.\n",
    "\n",
    "Ce n'est pas le but de l'analyse actuelle, mais on peut cependant penser que ces valeurs extrêmes doivent être repérables dans le cadre d'une vérification basées sur les risques. \n",
    "\n",
    "# Définition et simulation des règles\n",
    "\n",
    "## Paramètres d'optimisation des règles\n",
    "\n",
    "On simule des règles en cherchant à limiter deux types de risque:\n",
    "\n",
    "* __Risque de sous-financement :__ L'objectif principal des avances sur paiement est de limiter le risque que les formations sanitaires se trouvent en difficultés financières dues au retard des financements. Dans ce cadre, on souhaite utiliser des règles qui permettent de limiter le risque de sous-financement. On définit ce risque comme la proportion de FOSA qui toucheraient une avance de paiement inférieure à une proportion fixée du paiement finalement validé. Dans cette analyse, on fixe cette proportion à 25% .\n",
    "\n",
    "* __Risque de surpaiement :__ Dans le même temps, on cherche à limiter le risque financer lié au fait de faire des paiements sur des données non validées. Dans ce cadre, on se place dans un scénario où les FOSA ne remboursent pas le trop-perçu sur les avances dans les cas où les paiements validés sont inférieurs aux avances sur paiement. On définit en calculant le ratio entre les paiements trop perçus et les paiements validés. Par exemple, dans 10 sites le paiement validé pour chaque site est de 2000 USD et une avance de 1800 USD avait été fixée pour tous les sites, sauf un pour lequel l'avance payée avait été de 2400 USD. Le paiement total validé est donc de 20000 USD, le paiement effectué est de 2400 USD, le risque de surpaiement est évalué à 400 / 20000 = 2% "
   ]
  },
  {
   "cell_type": "code",
   "execution_count": 4,
   "metadata": {},
   "outputs": [],
   "source": [
    "def compute_advance_payments(data, rule):\n",
    "    \"\"\"Computes the advance payment to be made to a FOSA based on previous validated payments for each period\n",
    "    \n",
    "    Parameters\n",
    "    -----------\n",
    "    data: DataFrame\n",
    "        DataFrame with a column period and a column validated\n",
    "    rule: Function\n",
    "        A function that takes the past validated payments as an argument, and returns a unique value for advance payment\n",
    "    \"\"\"\n",
    "    advance_payments = []\n",
    "    periods = data.period.unique()\n",
    "    periods.sort()\n",
    "    for period in periods[1:]:\n",
    "        data_ante = data[data.period < period]\n",
    "        advance_payment = rule(data_ante)\n",
    "        advance_payments.append(advance_payment)\n",
    "    out = pd.DataFrame.from_dict({\"period\":periods[1:], \n",
    "                                  \"advance_payments\":advance_payments})\n",
    "    return out\n",
    "\n",
    "def simulate_advance_payments(data, rule):\n",
    "    \"\"\"Simulates advance payments for all FOSAs\n",
    "     \n",
    "    A wrapper that computes the payments for each FOSA.\n",
    "     \n",
    "    Parameters\n",
    "    -----------\n",
    "    data: DataFrame\n",
    "        DataFrame with a column period and a column validated as well as province, zone, aire and fosa\n",
    "    rule: Function\n",
    "        A function that takes the past validated payments as an argument, and returns a unique value for advance payment\n",
    "    \"\"\"\n",
    "    simulation = data.groupby([\"province\",\"zone\",\"aire\",\"fosa\"]).apply(compute_advance_payments, rule)\n",
    "    simulation = simulation.reset_index()\n",
    "    out = data.merge(simulation)\n",
    "    return out\n",
    "\n",
    "def benchmark(simulated, underfin_rate):\n",
    "    \"\"\"Computes benchmarking metrics \n",
    "     \n",
    "     A wrapper that computes the payments for each fosa.\n",
    "    \n",
    "     Computing benchmarking metrics based on the result of simulations from simulate_advance_payments. For now we use 2 metrics\n",
    "     \n",
    "     under-financing risk: The proportion of FOSAs that would have received an advance payments lower than a \n",
    "         percentage fixed as underfin_rate, that is considered necessary for proper functioning.\n",
    "     over-payment risk: The proportion of overpayments finally made in a scenario where FOSAs don't reimburse the \n",
    "         overpayments made in the advance payments.\n",
    "    \"\"\"\n",
    "    simulated = simulated.dropna()\n",
    "    advance_ratio = simulated.advance_payments / simulated.validated\n",
    "    underfin = sum(advance_ratio < underfin_rate) / len(advance_ratio)\n",
    "    overfin_val = sum(simulated.advance_payments[simulated.advance_payments > simulated.validated] - simulated.validated[simulated.advance_payments > simulated.validated])\n",
    "    overfin_ratio = overfin_val / sum(simulated.validated.dropna())\n",
    "    return (underfin, overfin_ratio)"
   ]
  },
  {
   "cell_type": "markdown",
   "metadata": {},
   "source": [
    "### Règles testées\n",
    "\n",
    "Les règles testées dans cette analyse ont été proposées par les équipes du PDSS et de Bluesquare. On a pour l'instant simulé les résultats de trois types de règles:\n",
    "\n",
    "__Règles basées sur le minimum :__ Un premier type de règles est basé sur le paiement minimal qui a été validé pour la FOSA. Ce paiement est ajusté en ajoutant des multiples de la déviation standard des paiement validés, pour limiter le risque de sous-financement dans le cas de FOSA ayant connu des périodes avec des paiements validés particulièrement faibles.\n",
    "\n",
    "__Règles basées sur la médiane :__ Un second type de règles est basé sur le paiement médian qui a été validé pour la FOSA. Ce paiement est ajusté en soustrayant des multiples de la déviation standard des paiement validés, pour limiter le risque de surpaiement.\n",
    "\n",
    "__Règles basées sur le dernier paiement :__ Une troisème approche est de fixer l'avance sur paiement comme une proportion du dernier paiement validé pour la FOSA. Cela permet de baser l'avance sur les volumes de financement les plus récents pour les formations sanitaires.\n",
    "\n",
    "On implémente chacune de ces règles en utilisant différentes valeurs pour les paramètres entrant en jeu (nombre de déviations standards additionnées ou soustraites, proportion du dernier paiement). On simule les avances sur paiements qui auraient été faites pour chaque FOSA pour chaque trimestre si chacune de ces règles avait été mise en oeuvre, et on estime chacun des risques pris en compte en fonction des résultats de l'ensemble de ces simulations."
   ]
  },
  {
   "cell_type": "code",
   "execution_count": 5,
   "metadata": {},
   "outputs": [],
   "source": [
    "## Advance = minimum payment made to the FOSA + k*std\n",
    "def min_plus_sd(data_ante, k):\n",
    "    return min(data_ante.validated) + k*np.std(data_ante.validated)\n",
    "\n",
    "## Advance = median payment made to the FOSA - 1std\n",
    "def median_minus_sd(data_ante,k):\n",
    "    return max(np.median(data_ante.validated) - k*np.std(data_ante.validated), 0)\n",
    "\n",
    "## PDSS = 60% of previous\n",
    "def pdss(data_ante, rate):\n",
    "    return rate * data_ante.loc[data_ante.period == max(data_ante.period), \"validated\"].values[0]"
   ]
  },
  {
   "cell_type": "code",
   "execution_count": 6,
   "metadata": {},
   "outputs": [],
   "source": [
    "underfin_rate = .25\n",
    "\n",
    "std_values = [.5, 1, 1.5, 2, 2.5, 3]\n",
    "\n",
    "\n",
    "col=0\n",
    "out = pd.DataFrame()\n",
    "for std in std_values:\n",
    "    min_simul = simulate_advance_payments(payments, lambda x : min_plus_sd(x, std))\n",
    "    med_simul = simulate_advance_payments(payments, lambda x : median_minus_sd(x, std))\n",
    "    min_quarter_benchmark = min_simul.groupby(\"period\").apply(benchmark, underfin_rate)\n",
    "    min_benchmark = benchmark(min_simul, underfin_rate)\n",
    "    med_quarter_benchmark = med_simul.groupby(\"period\").apply(benchmark, underfin_rate)\n",
    "    med_benchmark = benchmark(med_simul, underfin_rate)\n",
    "    \n",
    "    algos = [\"min +\" + str(std) + \" std\"] * (len(min_quarter_benchmark) + 1) + [\"median -\" + str(std) + \" std\"] * (len(med_quarter_benchmark) + 1)\n",
    "    base = [\"min\"] * (len(min_quarter_benchmark) + 1) + [\"median\"] * (len(med_quarter_benchmark) + 1)\n",
    "    underfins = min_quarter_benchmark.apply(lambda x : x[0]).tolist() + [min_benchmark[0]] + med_quarter_benchmark.apply(lambda x : x[0]).tolist() + [med_benchmark[0]]\n",
    "    overfins = min_quarter_benchmark.apply(lambda x : x[1]).tolist() + [min_benchmark[1]] + med_quarter_benchmark.apply(lambda x : x[1]).tolist() + [med_benchmark[1]]\n",
    "    quarter = min_quarter_benchmark.index.tolist() +  [\"overall\"] + med_quarter_benchmark.index.tolist() + [\"overall\"]\n",
    "    out = out.append(pd.DataFrame.from_dict({\"algo\":algos, \"underfin\":underfins, \"overfin\":overfins, \n",
    "                                             \"quarter\":quarter,\n",
    "                                             \"col\":col, \"base\":base}))\n",
    "    col = col + 1"
   ]
  },
  {
   "cell_type": "code",
   "execution_count": 7,
   "metadata": {},
   "outputs": [],
   "source": [
    "pdss_rates = [0.4, 0.5, 0.6, 0.7, 0.8]\n",
    "for rate in pdss_rates:\n",
    "    pdss_simul = simulate_advance_payments(payments, lambda x : pdss(x, rate))\n",
    "    pdss_quarter_benchmark = pdss_simul.groupby(\"period\").apply(benchmark, underfin_rate)\n",
    "    pdss_benchmark = benchmark(pdss_simul, underfin_rate)\n",
    "    \n",
    "    underfins = pdss_quarter_benchmark.apply(lambda x : x[0]).tolist() + [pdss_benchmark[0]]  \n",
    "    overfins = pdss_quarter_benchmark.apply(lambda x : x[1]).tolist() + [pdss_benchmark[1]]\n",
    "    quarter = pdss_quarter_benchmark.index.tolist() +  [\"overall\"]\n",
    "    \n",
    "    out = out.append(pd.DataFrame.from_dict({\"algo\":\"Last payment - \" + str(rate), \"underfin\":underfins, \n",
    "                                             \"overfin\":overfins, \"quarter\":quarter,\n",
    "                                             \"col\":col, \"base\":\"last_payment\"}))\n",
    "    col = col + 1"
   ]
  },
  {
   "cell_type": "markdown",
   "metadata": {},
   "source": [
    "### Résultats des simulations"
   ]
  },
  {
   "cell_type": "code",
   "execution_count": 8,
   "metadata": {},
   "outputs": [
    {
     "data": {
      "text/plain": [
       "(0, 1)"
      ]
     },
     "execution_count": 8,
     "metadata": {},
     "output_type": "execute_result"
    },
    {
     "data": {
      "image/png": "[encoded data removed]",
      "text/plain": [
       "<Figure size 864x432 with 1 Axes>"
      ]
     },
     "metadata": {
      "needs_background": "light"
     },
     "output_type": "display_data"
    }
   ],
   "source": [
    "cmap = matplotlib.cm.get_cmap('tab20').colors\n",
    "plot_quarter = False\n",
    "\n",
    "fig1 = plt.figure(figsize = [12,6])\n",
    "for algo in out.algo.unique():\n",
    "    algo_data = out[out.algo == algo]\n",
    "    for quarter in algo_data.quarter.unique() :\n",
    "        to_plot = algo_data[algo_data.quarter == quarter]\n",
    "        marker = \"o\"\n",
    "        if to_plot.base.values[0] == \"min\":\n",
    "            marker = \"x\"\n",
    "        if to_plot.base.values[0] == \"last_payment\":\n",
    "            marker = \"^\"\n",
    "        if quarter == \"overall\":\n",
    "            plt.plot(to_plot.overfin, to_plot.underfin, color = cmap[to_plot.col.values[0]], marker = marker, \n",
    "                     label = algo, linestyle = 'None', markersize = 10)\n",
    "        if ~(quarter == \"overall\") & (plot_quarter == True):\n",
    "            plt.plot(to_plot.overfin, to_plot.underfin, color = cmap[to_plot.col.values[0]], marker = marker, \n",
    "                     linestyle = 'None', alpha = .5, markersize = 5)\n",
    "plt.legend()\n",
    "plt.ylabel(\"Risque de sous financement\")\n",
    "plt.xlabel(\"Risque de surpaiement\")\n",
    "plt.ylim(0,1)"
   ]
  },
  {
   "cell_type": "markdown",
   "metadata": {},
   "source": [
    "Ces simulations permettent d'obtenir un résultat assez clair. On voir que les règles basés un proportion de la dernière valeur ont les meilleurs résultats. Utiliser un taux d'actualisation .70 permet de limiter le risque de sous financement à moins de 5% tout en limitant le risque de surfinancement aux alentours de 2%. Les stratégies basées sur le mimimum ou la médiane se trouvent sur une courbe de performance différente, avec un risque de sous-financement beaucoup plus large, pour un même risque de surpaiement. La faiblesse de ces approches est donc probablement liée à une forte variabilité des paiements dans le temps, ce qui rend difficile l'idée de se baser sur les caractéristiques statistiques des distributions."
   ]
  }
 ],
 "metadata": {
  "file_extension": ".py",
  "kernelspec": {
   "display_name": "Python 3",
   "language": "python",
   "name": "python3"
  },
  "language_info": {
   "codemirror_mode": {
    "name": "ipython",
    "version": 3
   },
   "file_extension": ".py",
   "mimetype": "text/x-python",
   "name": "python",
   "nbconvert_exporter": "python",
   "pygments_lexer": "ipython3",
   "version": "3.7.1"
  },
  "mimetype": "text/x-python",
  "name": "python",
  "npconvert_exporter": "python",
  "pygments_lexer": "ipython3",
  "version": 3
 },
 "nbformat": 4,
 "nbformat_minor": 2
}
